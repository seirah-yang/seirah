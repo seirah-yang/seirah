{
 "cells": [
  {
   "cell_type": "markdown",
   "metadata": {},
   "source": [
    "Regression_ age + Face prediction "
   ]
  },
  {
   "cell_type": "code",
   "execution_count": 3,
   "metadata": {},
   "outputs": [],
   "source": [
    "import os\n",
    "import json\n",
    "import cv2\n",
    "import torch\n",
    "import numpy as np\n",
    "\n",
    "from PIL import Image\n",
    "from torch.utils.data import Dataset\n",
    "from matplotlib import pyplot as plt"
   ]
  },
  {
   "cell_type": "code",
   "execution_count": 4,
   "metadata": {},
   "outputs": [],
   "source": [
    "def collect_image_age_pairs(image_root_dir, json_root_dir):\n",
    "    pairs = []\n",
    "\n",
    "    # subject_id dir 반복\n",
    "    subject_ids = sorted([d for d in os.listdir(image_root_dir) if os.path.isdir(os.path.join(image_root_dir, d))])\n",
    "\n",
    "    print(f\"총 subject 수: {len(subject_ids)}\")\n",
    "\n",
    "    for subject_id in subject_ids:\n",
    "        subject_image_dir = os.path.join(image_root_dir, subject_id)\n",
    "        subject_json_dir = os.path.join(json_root_dir, subject_id)\n",
    "        if not os.path.exists(subject_json_dir):\n",
    "            print(f\"[경고] JSON 디렉토리 없음: {subject_json_dir}\")\n",
    "            continue\n",
    "        \n",
    "        #이미지 파일 중 Jpg만 추출 \n",
    "        jpg_files = [f for f in os.listdir(subject_image_dir) if f.endswith('.jpg')]\n",
    "\n",
    "        for jpg_file in jpg_files:\n",
    "            base_name = jpg_file.replace('.jpg', '')    \n",
    "            json_filename = f\"{base_name}_00.json\"\n",
    "            json_path = os.path.join(subject_json_dir, json_filename)\n",
    "            jpg_path = os.path.join(subject_image_dir, jpg_file)\n",
    "\n",
    "            if os.path.exists(json_path):\n",
    "                try:\n",
    "                    with open(json_path, 'r', encoding='utf-8') as f:\n",
    "                        data = json.load(f)\n",
    "                        age = data['info']['age'] #info[4]\n",
    "                        pairs.append((jpg_path, age))\n",
    "                        \n",
    "                except Exception as e:\n",
    "                    print(f\"[오류] JSON 파싱 실패: {json_path} - {e}\")\n",
    "            else:\n",
    "                print(f\"[경고] JSON 파일 없음: {json_path}\")\n",
    "\n",
    "    return pairs"
   ]
  },
  {
   "cell_type": "code",
   "execution_count": 5,
   "metadata": {},
   "outputs": [
    {
     "name": "stdout",
     "output_type": "stream",
     "text": [
      "총 subject 수: 858\n",
      "총 매칭 이미지 수: 6006\n",
      "샘플 10:\n",
      "('/home/alpaco/yskim/data/Training/origin/digitalCamera/0002/0002_01_L15.jpg', 50)\n",
      "('/home/alpaco/yskim/data/Training/origin/digitalCamera/0002/0002_01_Fb.jpg', 50)\n",
      "('/home/alpaco/yskim/data/Training/origin/digitalCamera/0002/0002_01_L30.jpg', 50)\n",
      "('/home/alpaco/yskim/data/Training/origin/digitalCamera/0002/0002_01_Ft.jpg', 50)\n",
      "('/home/alpaco/yskim/data/Training/origin/digitalCamera/0002/0002_01_F.jpg', 50)\n",
      "('/home/alpaco/yskim/data/Training/origin/digitalCamera/0002/0002_01_R15.jpg', 50)\n",
      "('/home/alpaco/yskim/data/Training/origin/digitalCamera/0002/0002_01_R30.jpg', 50)\n",
      "('/home/alpaco/yskim/data/Training/origin/digitalCamera/0003/0003_01_Fb.jpg', 24)\n",
      "('/home/alpaco/yskim/data/Training/origin/digitalCamera/0003/0003_01_F.jpg', 24)\n",
      "('/home/alpaco/yskim/data/Training/origin/digitalCamera/0003/0003_01_L15.jpg', 24)\n"
     ]
    }
   ],
   "source": [
    "# 루트 경로 설정  \n",
    "image_root = '/home/alpaco/yskim/data/Training/origin/digitalCamera'\n",
    "json_root = '/home/alpaco/yskim/data/Training/lable/digitalCamera'\n",
    "\n",
    "# 실행 \n",
    "image_age_pairs = collect_image_age_pairs(image_root, json_root)\n",
    "\n",
    "# 결과\n",
    "print(f\"총 매칭 이미지 수: {len(image_age_pairs)}\")\n",
    "print(\"샘플 10:\")\n",
    "for i in range(min(10, len(image_age_pairs))):\n",
    "    print(image_age_pairs[i])"
   ]
  },
  {
   "cell_type": "code",
   "execution_count": 6,
   "metadata": {},
   "outputs": [
    {
     "name": "stdout",
     "output_type": "stream",
     "text": [
      "                                          image_path  age\n",
      "0  /home/alpaco/yskim/data/Training/origin/digita...   50\n",
      "1  /home/alpaco/yskim/data/Training/origin/digita...   50\n",
      "2  /home/alpaco/yskim/data/Training/origin/digita...   50\n",
      "3  /home/alpaco/yskim/data/Training/origin/digita...   50\n",
      "4  /home/alpaco/yskim/data/Training/origin/digita...   50\n"
     ]
    }
   ],
   "source": [
    "import pandas as pd\n",
    "\n",
    "df = pd.DataFrame(image_age_pairs, columns=['image_path', 'age'])\n",
    "print(df.head())"
   ]
  },
  {
   "cell_type": "markdown",
   "metadata": {},
   "source": [
    "### EfficientNet 학습\n",
    "1. data준비\n",
    "2. custom dataset 클래스 정의\n",
    "3. 이미지 전처리(transforms)\n",
    "4. 모델 구성 (ResNet, EfficientNet)\n",
    "5. Regression Loss (MSELoss)\n",
    "6. 학습루프 작성(Train/val)\n",
    "7. 성능평가(MAE, RMSE)"
   ]
  },
  {
   "cell_type": "code",
   "execution_count": 7,
   "metadata": {},
   "outputs": [
    {
     "name": "stdout",
     "output_type": "stream",
     "text": [
      "Requirement already satisfied: torch in /home/alpaco/anaconda3/envs/alpacosry/lib/python3.8/site-packages (2.1.2+cpu)\n",
      "Requirement already satisfied: torchvision in /home/alpaco/anaconda3/envs/alpacosry/lib/python3.8/site-packages (0.16.2+cpu)\n",
      "Requirement already satisfied: pandas in /home/alpaco/anaconda3/envs/alpacosry/lib/python3.8/site-packages (2.0.3)\n",
      "Requirement already satisfied: scikit-learn in /home/alpaco/anaconda3/envs/alpacosry/lib/python3.8/site-packages (1.3.2)\n",
      "Requirement already satisfied: timm in /home/alpaco/anaconda3/envs/alpacosry/lib/python3.8/site-packages (1.0.16)\n",
      "Requirement already satisfied: filelock in /home/alpaco/anaconda3/envs/alpacosry/lib/python3.8/site-packages (from torch) (3.13.1)\n",
      "Requirement already satisfied: typing-extensions in /home/alpaco/anaconda3/envs/alpacosry/lib/python3.8/site-packages (from torch) (4.13.2)\n",
      "Requirement already satisfied: sympy in /home/alpaco/anaconda3/envs/alpacosry/lib/python3.8/site-packages (from torch) (1.13.3)\n",
      "Requirement already satisfied: networkx in /home/alpaco/anaconda3/envs/alpacosry/lib/python3.8/site-packages (from torch) (3.0)\n",
      "Requirement already satisfied: jinja2 in /home/alpaco/anaconda3/envs/alpacosry/lib/python3.8/site-packages (from torch) (3.1.4)\n",
      "Requirement already satisfied: fsspec in /home/alpaco/anaconda3/envs/alpacosry/lib/python3.8/site-packages (from torch) (2024.6.1)\n",
      "Requirement already satisfied: numpy in /home/alpaco/anaconda3/envs/alpacosry/lib/python3.8/site-packages (from torchvision) (1.24.1)\n",
      "Requirement already satisfied: requests in /home/alpaco/anaconda3/envs/alpacosry/lib/python3.8/site-packages (from torchvision) (2.32.4)\n",
      "Requirement already satisfied: pillow!=8.3.*,>=5.3.0 in /home/alpaco/anaconda3/envs/alpacosry/lib/python3.8/site-packages (from torchvision) (10.4.0)\n",
      "Requirement already satisfied: python-dateutil>=2.8.2 in /home/alpaco/anaconda3/envs/alpacosry/lib/python3.8/site-packages (from pandas) (2.8.2)\n",
      "Requirement already satisfied: pytz>=2020.1 in /home/alpaco/anaconda3/envs/alpacosry/lib/python3.8/site-packages (from pandas) (2025.2)\n",
      "Requirement already satisfied: tzdata>=2022.1 in /home/alpaco/anaconda3/envs/alpacosry/lib/python3.8/site-packages (from pandas) (2025.2)\n",
      "Requirement already satisfied: scipy>=1.5.0 in /home/alpaco/anaconda3/envs/alpacosry/lib/python3.8/site-packages (from scikit-learn) (1.10.1)\n",
      "Requirement already satisfied: joblib>=1.1.1 in /home/alpaco/anaconda3/envs/alpacosry/lib/python3.8/site-packages (from scikit-learn) (1.4.2)\n",
      "Requirement already satisfied: threadpoolctl>=2.0.0 in /home/alpaco/anaconda3/envs/alpacosry/lib/python3.8/site-packages (from scikit-learn) (3.5.0)\n",
      "Requirement already satisfied: pyyaml in /home/alpaco/anaconda3/envs/alpacosry/lib/python3.8/site-packages (from timm) (6.0.2)\n",
      "Requirement already satisfied: huggingface_hub in /home/alpaco/anaconda3/envs/alpacosry/lib/python3.8/site-packages (from timm) (0.33.2)\n",
      "Requirement already satisfied: safetensors in /home/alpaco/anaconda3/envs/alpacosry/lib/python3.8/site-packages (from timm) (0.5.3)\n",
      "Requirement already satisfied: six>=1.5 in /home/alpaco/anaconda3/envs/alpacosry/lib/python3.8/site-packages (from python-dateutil>=2.8.2->pandas) (1.16.0)\n",
      "Requirement already satisfied: packaging>=20.9 in /home/alpaco/anaconda3/envs/alpacosry/lib/python3.8/site-packages (from huggingface_hub->timm) (25.0)\n",
      "Requirement already satisfied: tqdm>=4.42.1 in /home/alpaco/anaconda3/envs/alpacosry/lib/python3.8/site-packages (from huggingface_hub->timm) (4.67.1)\n",
      "Requirement already satisfied: hf-xet<2.0.0,>=1.1.2 in /home/alpaco/anaconda3/envs/alpacosry/lib/python3.8/site-packages (from huggingface_hub->timm) (1.1.5)\n",
      "Requirement already satisfied: MarkupSafe>=2.0 in /home/alpaco/anaconda3/envs/alpacosry/lib/python3.8/site-packages (from jinja2->torch) (2.1.5)\n",
      "Requirement already satisfied: charset_normalizer<4,>=2 in /home/alpaco/anaconda3/envs/alpacosry/lib/python3.8/site-packages (from requests->torchvision) (3.4.2)\n",
      "Requirement already satisfied: idna<4,>=2.5 in /home/alpaco/anaconda3/envs/alpacosry/lib/python3.8/site-packages (from requests->torchvision) (3.10)\n",
      "Requirement already satisfied: urllib3<3,>=1.21.1 in /home/alpaco/anaconda3/envs/alpacosry/lib/python3.8/site-packages (from requests->torchvision) (2.2.3)\n",
      "Requirement already satisfied: certifi>=2017.4.17 in /home/alpaco/anaconda3/envs/alpacosry/lib/python3.8/site-packages (from requests->torchvision) (2025.6.15)\n",
      "Requirement already satisfied: mpmath<1.4,>=1.1.0 in /home/alpaco/anaconda3/envs/alpacosry/lib/python3.8/site-packages (from sympy->torch) (1.3.0)\n"
     ]
    }
   ],
   "source": [
    "!pip install torch torchvision pandas scikit-learn timm pandas"
   ]
  },
  {
   "cell_type": "code",
   "execution_count": 8,
   "metadata": {},
   "outputs": [],
   "source": [
    "# Dataset 정의 \n",
    "class AgeDataset(Dataset):\n",
    "    def __init__(self, dataframe, transform=None):\n",
    "        self.df = dataframe\n",
    "        self.transform = transform\n",
    "\n",
    "    def __len__(self):\n",
    "        return len(self.df)\n",
    "    \n",
    "    def __getitem__(self, idx):\n",
    "        img_path = self.df.iloc[idx]['image_path']\n",
    "        age = self.df.iloc[idx]['age']\n",
    "        image = Image.open(img_path).convert(\"RGB\")\n",
    "    \n",
    "        if self.transform:\n",
    "            image = self.transform(image)\n",
    "    \n",
    "        return image, torch.tensor(age, dtype=torch.float32)"
   ]
  },
  {
   "cell_type": "code",
   "execution_count": 9,
   "metadata": {},
   "outputs": [
    {
     "name": "stdout",
     "output_type": "stream",
     "text": [
      "Requirement already satisfied: scikit-image in /home/alpaco/anaconda3/envs/alpacosry/lib/python3.8/site-packages (0.21.0)\n",
      "Requirement already satisfied: numpy>=1.21.1 in /home/alpaco/anaconda3/envs/alpacosry/lib/python3.8/site-packages (from scikit-image) (1.24.1)\n",
      "Requirement already satisfied: scipy>=1.8 in /home/alpaco/anaconda3/envs/alpacosry/lib/python3.8/site-packages (from scikit-image) (1.10.1)\n",
      "Requirement already satisfied: networkx>=2.8 in /home/alpaco/anaconda3/envs/alpacosry/lib/python3.8/site-packages (from scikit-image) (3.0)\n",
      "Requirement already satisfied: pillow>=9.0.1 in /home/alpaco/anaconda3/envs/alpacosry/lib/python3.8/site-packages (from scikit-image) (10.4.0)\n",
      "Requirement already satisfied: imageio>=2.27 in /home/alpaco/anaconda3/envs/alpacosry/lib/python3.8/site-packages (from scikit-image) (2.35.1)\n",
      "Requirement already satisfied: tifffile>=2022.8.12 in /home/alpaco/anaconda3/envs/alpacosry/lib/python3.8/site-packages (from scikit-image) (2023.7.10)\n",
      "Requirement already satisfied: PyWavelets>=1.1.1 in /home/alpaco/anaconda3/envs/alpacosry/lib/python3.8/site-packages (from scikit-image) (1.4.1)\n",
      "Requirement already satisfied: packaging>=21 in /home/alpaco/anaconda3/envs/alpacosry/lib/python3.8/site-packages (from scikit-image) (25.0)\n",
      "Requirement already satisfied: lazy_loader>=0.2 in /home/alpaco/anaconda3/envs/alpacosry/lib/python3.8/site-packages (from scikit-image) (0.4)\n"
     ]
    }
   ],
   "source": [
    "!pip install scikit-image"
   ]
  },
  {
   "cell_type": "code",
   "execution_count": 10,
   "metadata": {},
   "outputs": [
    {
     "name": "stdout",
     "output_type": "stream",
     "text": [
      "Requirement already satisfied: gdown in /home/alpaco/anaconda3/envs/alpacosry/lib/python3.8/site-packages (4.6.3)\n",
      "Collecting gdown\n",
      "  Using cached gdown-5.2.0-py3-none-any.whl.metadata (5.8 kB)\n",
      "Requirement already satisfied: beautifulsoup4 in /home/alpaco/anaconda3/envs/alpacosry/lib/python3.8/site-packages (from gdown) (4.13.4)\n",
      "Requirement already satisfied: filelock in /home/alpaco/anaconda3/envs/alpacosry/lib/python3.8/site-packages (from gdown) (3.13.1)\n",
      "Requirement already satisfied: requests[socks] in /home/alpaco/anaconda3/envs/alpacosry/lib/python3.8/site-packages (from gdown) (2.32.4)\n",
      "Requirement already satisfied: tqdm in /home/alpaco/anaconda3/envs/alpacosry/lib/python3.8/site-packages (from gdown) (4.67.1)\n",
      "Requirement already satisfied: soupsieve>1.2 in /home/alpaco/anaconda3/envs/alpacosry/lib/python3.8/site-packages (from beautifulsoup4->gdown) (2.7)\n",
      "Requirement already satisfied: typing-extensions>=4.0.0 in /home/alpaco/anaconda3/envs/alpacosry/lib/python3.8/site-packages (from beautifulsoup4->gdown) (4.13.2)\n",
      "Requirement already satisfied: charset_normalizer<4,>=2 in /home/alpaco/anaconda3/envs/alpacosry/lib/python3.8/site-packages (from requests[socks]->gdown) (3.4.2)\n",
      "Requirement already satisfied: idna<4,>=2.5 in /home/alpaco/anaconda3/envs/alpacosry/lib/python3.8/site-packages (from requests[socks]->gdown) (3.10)\n",
      "Requirement already satisfied: urllib3<3,>=1.21.1 in /home/alpaco/anaconda3/envs/alpacosry/lib/python3.8/site-packages (from requests[socks]->gdown) (2.2.3)\n",
      "Requirement already satisfied: certifi>=2017.4.17 in /home/alpaco/anaconda3/envs/alpacosry/lib/python3.8/site-packages (from requests[socks]->gdown) (2025.6.15)\n",
      "Requirement already satisfied: PySocks!=1.5.7,>=1.5.6 in /home/alpaco/anaconda3/envs/alpacosry/lib/python3.8/site-packages (from requests[socks]->gdown) (1.7.1)\n",
      "Using cached gdown-5.2.0-py3-none-any.whl (18 kB)\n",
      "Installing collected packages: gdown\n",
      "  Attempting uninstall: gdown\n",
      "    Found existing installation: gdown 4.6.3\n",
      "    Uninstalling gdown-4.6.3:\n",
      "      Successfully uninstalled gdown-4.6.3\n",
      "Successfully installed gdown-5.2.0\n"
     ]
    }
   ],
   "source": [
    "!pip install --upgrade gdown"
   ]
  },
  {
   "cell_type": "code",
   "execution_count": 11,
   "metadata": {},
   "outputs": [
    {
     "name": "stdout",
     "output_type": "stream",
     "text": [
      "Collecting gdown==v4.6.3\n",
      "  Using cached gdown-4.6.3-py3-none-any.whl.metadata (4.4 kB)\n",
      "Requirement already satisfied: filelock in /home/alpaco/anaconda3/envs/alpacosry/lib/python3.8/site-packages (from gdown==v4.6.3) (3.13.1)\n",
      "Requirement already satisfied: requests[socks] in /home/alpaco/anaconda3/envs/alpacosry/lib/python3.8/site-packages (from gdown==v4.6.3) (2.32.4)\n",
      "Requirement already satisfied: six in /home/alpaco/anaconda3/envs/alpacosry/lib/python3.8/site-packages (from gdown==v4.6.3) (1.16.0)\n",
      "Requirement already satisfied: tqdm in /home/alpaco/anaconda3/envs/alpacosry/lib/python3.8/site-packages (from gdown==v4.6.3) (4.67.1)\n",
      "Requirement already satisfied: beautifulsoup4 in /home/alpaco/anaconda3/envs/alpacosry/lib/python3.8/site-packages (from gdown==v4.6.3) (4.13.4)\n",
      "Requirement already satisfied: soupsieve>1.2 in /home/alpaco/anaconda3/envs/alpacosry/lib/python3.8/site-packages (from beautifulsoup4->gdown==v4.6.3) (2.7)\n",
      "Requirement already satisfied: typing-extensions>=4.0.0 in /home/alpaco/anaconda3/envs/alpacosry/lib/python3.8/site-packages (from beautifulsoup4->gdown==v4.6.3) (4.13.2)\n",
      "Requirement already satisfied: charset_normalizer<4,>=2 in /home/alpaco/anaconda3/envs/alpacosry/lib/python3.8/site-packages (from requests[socks]->gdown==v4.6.3) (3.4.2)\n",
      "Requirement already satisfied: idna<4,>=2.5 in /home/alpaco/anaconda3/envs/alpacosry/lib/python3.8/site-packages (from requests[socks]->gdown==v4.6.3) (3.10)\n",
      "Requirement already satisfied: urllib3<3,>=1.21.1 in /home/alpaco/anaconda3/envs/alpacosry/lib/python3.8/site-packages (from requests[socks]->gdown==v4.6.3) (2.2.3)\n",
      "Requirement already satisfied: certifi>=2017.4.17 in /home/alpaco/anaconda3/envs/alpacosry/lib/python3.8/site-packages (from requests[socks]->gdown==v4.6.3) (2025.6.15)\n",
      "Requirement already satisfied: PySocks!=1.5.7,>=1.5.6 in /home/alpaco/anaconda3/envs/alpacosry/lib/python3.8/site-packages (from requests[socks]->gdown==v4.6.3) (1.7.1)\n",
      "Using cached gdown-4.6.3-py3-none-any.whl (14 kB)\n",
      "Installing collected packages: gdown\n",
      "  Attempting uninstall: gdown\n",
      "    Found existing installation: gdown 5.2.0\n",
      "    Uninstalling gdown-5.2.0:\n",
      "      Successfully uninstalled gdown-5.2.0\n",
      "Successfully installed gdown-4.6.3\n"
     ]
    }
   ],
   "source": [
    "!pip install gdown==v4.6.3"
   ]
  },
  {
   "cell_type": "code",
   "execution_count": 12,
   "metadata": {},
   "outputs": [],
   "source": [
    "from skimage import io, exposure, img_as_ubyte\n",
    "from skimage.color import rgb2gray\n",
    "import matplotlib.pyplot as plt\n",
    "from torch.utils.data import Dataset\n",
    "from PIL import Image\n",
    "import torch\n",
    "from torchvision import transforms\n",
    "from sklearn.metrics import mean_absolute_error, mean_squared_error\n",
    "\n",
    "%matplotlib inline"
   ]
  },
  {
   "cell_type": "code",
   "execution_count": 13,
   "metadata": {},
   "outputs": [],
   "source": [
    "# Horizontal Equalizing\n",
    "image_root = '/home/alpaco/yskim/data/Training/origin/digitalCamera'\n",
    "output_folder = '/home/alpaco/yskim/data/Training/CLAHE/digitalCamera'\n",
    "os.makedirs(output_folder, exist_ok=True)\n",
    "\n",
    "image_files = [f for f in os.listdir(image_root) if f.lower().endswith('.jpg')]\n",
    "\n",
    "for file in image_files:\n",
    "    image_path = os.path.join(image_root, file)\n",
    "    image = io.imread(image_path)\n",
    "\n",
    "    if image.ndim == 3:\n",
    "        image_gray = rgb2gray(image)\n",
    "    else:\n",
    "        image_gray = image\n",
    "\n",
    "    equalized = exposure.equalize_adapthist(image_gray, clip_limit=0.03)\n",
    "    output_path = os.path.join(output_folder, f'equalized_{file}')\n",
    "    io.imsave(output_path, img_as_ubyte(equalized))\n",
    "    print(f\"Saved: {output_path}\")"
   ]
  },
  {
   "cell_type": "code",
   "execution_count": 14,
   "metadata": {},
   "outputs": [],
   "source": [
    "# Custom Data\n",
    "\n",
    "class AgeRegressionDataset(Dataset):\n",
    "    def __init__(self, dataframe, transform=None):\n",
    "        self.df = dataframe\n",
    "        self.transform = transform\n",
    "    def __len__(self):\n",
    "        return len(self.df)\n",
    "    def __getitem__(self, idx):\n",
    "        img_path = self.df.iloc[idx]['image_path']\n",
    "        age = self.df.iloc[idx]['age']\n",
    "        image = Image.open(img_path).convert(\"RGB\")\n",
    "        if self.transform:\n",
    "            image = self.transform(image)\n",
    "        return image, torch.tensor(age, dtype=torch.float32)"
   ]
  },
  {
   "cell_type": "code",
   "execution_count": 15,
   "metadata": {},
   "outputs": [],
   "source": [
    "# transform 정의 \n",
    "\n",
    "transform = transforms.Compose([\n",
    "    transforms.Resize((224, 224)),\n",
    "    transforms.ToTensor(),\n",
    "    transforms.Normalize([0.5]*3, [0.5]*3)\n",
    "])"
   ]
  },
  {
   "cell_type": "code",
   "execution_count": 16,
   "metadata": {},
   "outputs": [],
   "source": [
    "# dataloader 구성\n",
    "from sklearn.model_selection import train_test_split\n",
    "from torch.utils.data import DataLoader\n",
    "\n",
    "df = pd.DataFrame(image_age_pairs, columns=['image_path', 'age'])\n",
    "\n",
    "train_df, val_df = train_test_split(df, test_size=0.2, random_state=42)\n",
    "\n",
    "train_dataset = AgeDataset(train_df, transform=transform)\n",
    "val_dataset = AgeDataset(val_df, transform=transform)\n",
    "\n",
    "train_loader = DataLoader(train_dataset, batch_size=32, shuffle=True)\n",
    "val_loader = DataLoader(val_dataset, batch_size=32, shuffle=False)"
   ]
  },
  {
   "cell_type": "code",
   "execution_count": 17,
   "metadata": {},
   "outputs": [
    {
     "name": "stderr",
     "output_type": "stream",
     "text": [
      "/home/alpaco/anaconda3/envs/alpacosry/lib/python3.8/site-packages/tqdm/auto.py:21: TqdmWarning: IProgress not found. Please update jupyter and ipywidgets. See https://ipywidgets.readthedocs.io/en/stable/user_install.html\n",
      "  from .autonotebook import tqdm as notebook_tqdm\n"
     ]
    }
   ],
   "source": [
    "#EfficientNet\n",
    "import torch.nn as nn\n",
    "import timm  \n",
    "\n",
    "class EfficientNetRegressor(nn.Module):\n",
    "    def __init__(self):\n",
    "        super(EfficientNetRegressor, self).__init__()\n",
    "        self.backbone = timm.create_model('efficientnet_b0', pretrained=True)\n",
    "        in_features = self.backbone.classifier.in_features\n",
    "        self.backbone.classifier = nn.Linear(in_features, 1)  # 회귀용 출력\n",
    "        \n",
    "    def forward(self, x):\n",
    "        return self.backbone(x).squeeze(1)"
   ]
  },
  {
   "cell_type": "code",
   "execution_count": 18,
   "metadata": {},
   "outputs": [],
   "source": [
    "# 학습루프 \n",
    "import torch\n",
    "from torch import optim\n",
    "import torch.nn.functional as F\n",
    "from tqdm import tqdm\n",
    "from PIL import ImageFile\n",
    "from skimage import io, exposure, img_as_ubyte\n",
    "from skimage.color import rgb2gray\n",
    "\n",
    "ImageFile.LOAD_TRUNCATED_IMAGES = True\n",
    "\n",
    "device = torch.device(\"cuda\" if torch.cuda.is_available() else \"cpu\")\n",
    "model = EfficientNetRegressor().to(device)\n",
    "optimizer = optim.Adam(model.parameters(), lr=0.001)\n",
    "criterion = nn.MSELoss()"
   ]
  },
  {
   "cell_type": "code",
   "execution_count": 19,
   "metadata": {},
   "outputs": [
    {
     "name": "stderr",
     "output_type": "stream",
     "text": [
      "[Epoch 1] Training: 100%|██████████| 151/151 [13:58<00:00,  5.56s/it]\n"
     ]
    },
    {
     "name": "stdout",
     "output_type": "stream",
     "text": [
      "[Epoch 1] Train Loss: 326.8273 | MAE: 13.0642 | RMSE: 18.0784\n"
     ]
    },
    {
     "name": "stderr",
     "output_type": "stream",
     "text": [
      "[Epoch 1] Validation: 100%|██████████| 38/38 [01:54<00:00,  3.02s/it]\n"
     ]
    },
    {
     "name": "stdout",
     "output_type": "stream",
     "text": [
      "[Epoch 1] Val Loss: 128.4921 | MAE: 6.0901 | RMSE: 11.3354\n"
     ]
    },
    {
     "name": "stderr",
     "output_type": "stream",
     "text": [
      "[Epoch 2] Training: 100%|██████████| 151/151 [13:36<00:00,  5.41s/it]\n"
     ]
    },
    {
     "name": "stdout",
     "output_type": "stream",
     "text": [
      "[Epoch 2] Train Loss: 31.2796 | MAE: 4.1022 | RMSE: 5.5928\n"
     ]
    },
    {
     "name": "stderr",
     "output_type": "stream",
     "text": [
      "[Epoch 2] Validation: 100%|██████████| 38/38 [01:56<00:00,  3.05s/it]\n"
     ]
    },
    {
     "name": "stdout",
     "output_type": "stream",
     "text": [
      "[Epoch 2] Val Loss: 31.3951 | MAE: 4.2742 | RMSE: 5.6031\n"
     ]
    },
    {
     "name": "stderr",
     "output_type": "stream",
     "text": [
      "[Epoch 3] Training: 100%|██████████| 151/151 [13:18<00:00,  5.29s/it]\n"
     ]
    },
    {
     "name": "stdout",
     "output_type": "stream",
     "text": [
      "[Epoch 3] Train Loss: 18.3032 | MAE: 3.3008 | RMSE: 4.2782\n"
     ]
    },
    {
     "name": "stderr",
     "output_type": "stream",
     "text": [
      "[Epoch 3] Validation: 100%|██████████| 38/38 [01:55<00:00,  3.03s/it]\n"
     ]
    },
    {
     "name": "stdout",
     "output_type": "stream",
     "text": [
      "[Epoch 3] Val Loss: 46.4560 | MAE: 5.2909 | RMSE: 6.8159\n"
     ]
    },
    {
     "name": "stderr",
     "output_type": "stream",
     "text": [
      "[Epoch 4] Training: 100%|██████████| 151/151 [13:23<00:00,  5.32s/it]\n"
     ]
    },
    {
     "name": "stdout",
     "output_type": "stream",
     "text": [
      "[Epoch 4] Train Loss: 15.0533 | MAE: 2.9611 | RMSE: 3.8799\n"
     ]
    },
    {
     "name": "stderr",
     "output_type": "stream",
     "text": [
      "[Epoch 4] Validation: 100%|██████████| 38/38 [01:52<00:00,  2.96s/it]\n"
     ]
    },
    {
     "name": "stdout",
     "output_type": "stream",
     "text": [
      "[Epoch 4] Val Loss: 21.8321 | MAE: 2.5854 | RMSE: 4.6725\n"
     ]
    },
    {
     "name": "stderr",
     "output_type": "stream",
     "text": [
      "[Epoch 5] Training: 100%|██████████| 151/151 [13:31<00:00,  5.38s/it]\n"
     ]
    },
    {
     "name": "stdout",
     "output_type": "stream",
     "text": [
      "[Epoch 5] Train Loss: 12.4754 | MAE: 2.6935 | RMSE: 3.5321\n"
     ]
    },
    {
     "name": "stderr",
     "output_type": "stream",
     "text": [
      "[Epoch 5] Validation: 100%|██████████| 38/38 [01:56<00:00,  3.07s/it]\n"
     ]
    },
    {
     "name": "stdout",
     "output_type": "stream",
     "text": [
      "[Epoch 5] Val Loss: 33.7496 | MAE: 3.3181 | RMSE: 5.8094\n"
     ]
    },
    {
     "name": "stderr",
     "output_type": "stream",
     "text": [
      "[Epoch 6] Training: 100%|██████████| 151/151 [13:15<00:00,  5.27s/it]\n"
     ]
    },
    {
     "name": "stdout",
     "output_type": "stream",
     "text": [
      "[Epoch 6] Train Loss: 11.7757 | MAE: 2.6129 | RMSE: 3.4316\n"
     ]
    },
    {
     "name": "stderr",
     "output_type": "stream",
     "text": [
      "[Epoch 6] Validation: 100%|██████████| 38/38 [01:51<00:00,  2.95s/it]\n"
     ]
    },
    {
     "name": "stdout",
     "output_type": "stream",
     "text": [
      "[Epoch 6] Val Loss: 19.0028 | MAE: 3.2543 | RMSE: 4.3592\n"
     ]
    },
    {
     "name": "stderr",
     "output_type": "stream",
     "text": [
      "[Epoch 7] Training: 100%|██████████| 151/151 [13:07<00:00,  5.22s/it]\n"
     ]
    },
    {
     "name": "stdout",
     "output_type": "stream",
     "text": [
      "[Epoch 7] Train Loss: 14.2142 | MAE: 2.9237 | RMSE: 3.7702\n"
     ]
    },
    {
     "name": "stderr",
     "output_type": "stream",
     "text": [
      "[Epoch 7] Validation: 100%|██████████| 38/38 [01:59<00:00,  3.16s/it]\n"
     ]
    },
    {
     "name": "stdout",
     "output_type": "stream",
     "text": [
      "[Epoch 7] Val Loss: 10.6744 | MAE: 2.5392 | RMSE: 3.2672\n"
     ]
    },
    {
     "name": "stderr",
     "output_type": "stream",
     "text": [
      "[Epoch 8] Training: 100%|██████████| 151/151 [13:38<00:00,  5.42s/it]\n"
     ]
    },
    {
     "name": "stdout",
     "output_type": "stream",
     "text": [
      "[Epoch 8] Train Loss: 13.8681 | MAE: 2.9501 | RMSE: 3.7240\n"
     ]
    },
    {
     "name": "stderr",
     "output_type": "stream",
     "text": [
      "[Epoch 8] Validation: 100%|██████████| 38/38 [02:10<00:00,  3.43s/it]\n"
     ]
    },
    {
     "name": "stdout",
     "output_type": "stream",
     "text": [
      "[Epoch 8] Val Loss: 15.6719 | MAE: 2.8998 | RMSE: 3.9588\n"
     ]
    },
    {
     "name": "stderr",
     "output_type": "stream",
     "text": [
      "[Epoch 9] Training: 100%|██████████| 151/151 [13:27<00:00,  5.35s/it]\n"
     ]
    },
    {
     "name": "stdout",
     "output_type": "stream",
     "text": [
      "[Epoch 9] Train Loss: 10.4432 | MAE: 2.5338 | RMSE: 3.2316\n"
     ]
    },
    {
     "name": "stderr",
     "output_type": "stream",
     "text": [
      "[Epoch 9] Validation: 100%|██████████| 38/38 [01:53<00:00,  2.97s/it]\n"
     ]
    },
    {
     "name": "stdout",
     "output_type": "stream",
     "text": [
      "[Epoch 9] Val Loss: 9.2101 | MAE: 2.4235 | RMSE: 3.0348\n"
     ]
    },
    {
     "name": "stderr",
     "output_type": "stream",
     "text": [
      "[Epoch 10] Training: 100%|██████████| 151/151 [13:15<00:00,  5.27s/it]\n"
     ]
    },
    {
     "name": "stdout",
     "output_type": "stream",
     "text": [
      "[Epoch 10] Train Loss: 9.4247 | MAE: 2.4262 | RMSE: 3.0700\n"
     ]
    },
    {
     "name": "stderr",
     "output_type": "stream",
     "text": [
      "[Epoch 10] Validation: 100%|██████████| 38/38 [02:05<00:00,  3.31s/it]\n"
     ]
    },
    {
     "name": "stdout",
     "output_type": "stream",
     "text": [
      "[Epoch 10] Val Loss: 9.0050 | MAE: 2.3661 | RMSE: 3.0008\n"
     ]
    },
    {
     "name": "stderr",
     "output_type": "stream",
     "text": [
      "[Epoch 11] Training: 100%|██████████| 151/151 [13:19<00:00,  5.30s/it]\n"
     ]
    },
    {
     "name": "stdout",
     "output_type": "stream",
     "text": [
      "[Epoch 11] Train Loss: 8.4864 | MAE: 2.2719 | RMSE: 2.9131\n"
     ]
    },
    {
     "name": "stderr",
     "output_type": "stream",
     "text": [
      "[Epoch 11] Validation: 100%|██████████| 38/38 [02:02<00:00,  3.22s/it]\n"
     ]
    },
    {
     "name": "stdout",
     "output_type": "stream",
     "text": [
      "[Epoch 11] Val Loss: 8.9859 | MAE: 2.3663 | RMSE: 2.9976\n"
     ]
    },
    {
     "name": "stderr",
     "output_type": "stream",
     "text": [
      "[Epoch 12] Training: 100%|██████████| 151/151 [13:04<00:00,  5.20s/it]\n"
     ]
    },
    {
     "name": "stdout",
     "output_type": "stream",
     "text": [
      "[Epoch 12] Train Loss: 8.2527 | MAE: 2.2653 | RMSE: 2.8727\n"
     ]
    },
    {
     "name": "stderr",
     "output_type": "stream",
     "text": [
      "[Epoch 12] Validation: 100%|██████████| 38/38 [01:51<00:00,  2.92s/it]\n"
     ]
    },
    {
     "name": "stdout",
     "output_type": "stream",
     "text": [
      "[Epoch 12] Val Loss: 15.3123 | MAE: 3.2232 | RMSE: 3.9131\n"
     ]
    },
    {
     "name": "stderr",
     "output_type": "stream",
     "text": [
      "[Epoch 13] Training: 100%|██████████| 151/151 [13:24<00:00,  5.33s/it]\n"
     ]
    },
    {
     "name": "stdout",
     "output_type": "stream",
     "text": [
      "[Epoch 13] Train Loss: 6.3544 | MAE: 1.9530 | RMSE: 2.5208\n"
     ]
    },
    {
     "name": "stderr",
     "output_type": "stream",
     "text": [
      "[Epoch 13] Validation: 100%|██████████| 38/38 [02:03<00:00,  3.26s/it]\n"
     ]
    },
    {
     "name": "stdout",
     "output_type": "stream",
     "text": [
      "[Epoch 13] Val Loss: 13.3806 | MAE: 2.9555 | RMSE: 3.6580\n"
     ]
    },
    {
     "name": "stderr",
     "output_type": "stream",
     "text": [
      "[Epoch 14] Training: 100%|██████████| 151/151 [13:29<00:00,  5.36s/it]\n"
     ]
    },
    {
     "name": "stdout",
     "output_type": "stream",
     "text": [
      "[Epoch 14] Train Loss: 5.7644 | MAE: 1.8752 | RMSE: 2.4009\n"
     ]
    },
    {
     "name": "stderr",
     "output_type": "stream",
     "text": [
      "[Epoch 14] Validation: 100%|██████████| 38/38 [02:11<00:00,  3.47s/it]\n"
     ]
    },
    {
     "name": "stdout",
     "output_type": "stream",
     "text": [
      "[Epoch 14] Val Loss: 11.9743 | MAE: 2.7945 | RMSE: 3.4604\n"
     ]
    },
    {
     "name": "stderr",
     "output_type": "stream",
     "text": [
      "[Epoch 15] Training: 100%|██████████| 151/151 [13:41<00:00,  5.44s/it]\n"
     ]
    },
    {
     "name": "stdout",
     "output_type": "stream",
     "text": [
      "[Epoch 15] Train Loss: 5.1093 | MAE: 1.7782 | RMSE: 2.2604\n"
     ]
    },
    {
     "name": "stderr",
     "output_type": "stream",
     "text": [
      "[Epoch 15] Validation: 100%|██████████| 38/38 [01:52<00:00,  2.95s/it]\n"
     ]
    },
    {
     "name": "stdout",
     "output_type": "stream",
     "text": [
      "[Epoch 15] Val Loss: 14.3049 | MAE: 3.0775 | RMSE: 3.7822\n"
     ]
    },
    {
     "name": "stderr",
     "output_type": "stream",
     "text": [
      "[Epoch 16] Training: 100%|██████████| 151/151 [13:12<00:00,  5.25s/it]\n"
     ]
    },
    {
     "name": "stdout",
     "output_type": "stream",
     "text": [
      "[Epoch 16] Train Loss: 4.3155 | MAE: 1.6228 | RMSE: 2.0774\n"
     ]
    },
    {
     "name": "stderr",
     "output_type": "stream",
     "text": [
      "[Epoch 16] Validation: 100%|██████████| 38/38 [01:52<00:00,  2.96s/it]\n"
     ]
    },
    {
     "name": "stdout",
     "output_type": "stream",
     "text": [
      "[Epoch 16] Val Loss: 8.1780 | MAE: 2.2300 | RMSE: 2.8597\n"
     ]
    },
    {
     "name": "stderr",
     "output_type": "stream",
     "text": [
      "[Epoch 17] Training: 100%|██████████| 151/151 [13:21<00:00,  5.31s/it]\n"
     ]
    },
    {
     "name": "stdout",
     "output_type": "stream",
     "text": [
      "[Epoch 17] Train Loss: 3.9443 | MAE: 1.5670 | RMSE: 1.9860\n"
     ]
    },
    {
     "name": "stderr",
     "output_type": "stream",
     "text": [
      "[Epoch 17] Validation: 100%|██████████| 38/38 [01:55<00:00,  3.04s/it]\n"
     ]
    },
    {
     "name": "stdout",
     "output_type": "stream",
     "text": [
      "[Epoch 17] Val Loss: 9.1832 | MAE: 2.1357 | RMSE: 3.0304\n"
     ]
    },
    {
     "name": "stderr",
     "output_type": "stream",
     "text": [
      "[Epoch 18] Training: 100%|██████████| 151/151 [13:04<00:00,  5.20s/it]\n"
     ]
    },
    {
     "name": "stdout",
     "output_type": "stream",
     "text": [
      "[Epoch 18] Train Loss: 3.3542 | MAE: 1.4186 | RMSE: 1.8314\n"
     ]
    },
    {
     "name": "stderr",
     "output_type": "stream",
     "text": [
      "[Epoch 18] Validation: 100%|██████████| 38/38 [01:57<00:00,  3.10s/it]\n"
     ]
    },
    {
     "name": "stdout",
     "output_type": "stream",
     "text": [
      "[Epoch 18] Val Loss: 8.5659 | MAE: 2.0701 | RMSE: 2.9267\n"
     ]
    },
    {
     "name": "stderr",
     "output_type": "stream",
     "text": [
      "[Epoch 19] Training: 100%|██████████| 151/151 [13:32<00:00,  5.38s/it]\n"
     ]
    },
    {
     "name": "stdout",
     "output_type": "stream",
     "text": [
      "[Epoch 19] Train Loss: 3.2379 | MAE: 1.3975 | RMSE: 1.7994\n"
     ]
    },
    {
     "name": "stderr",
     "output_type": "stream",
     "text": [
      "[Epoch 19] Validation: 100%|██████████| 38/38 [02:07<00:00,  3.37s/it]\n"
     ]
    },
    {
     "name": "stdout",
     "output_type": "stream",
     "text": [
      "[Epoch 19] Val Loss: 15.3321 | MAE: 2.9883 | RMSE: 3.9156\n"
     ]
    },
    {
     "name": "stderr",
     "output_type": "stream",
     "text": [
      "[Epoch 20] Training: 100%|██████████| 151/151 [13:06<00:00,  5.21s/it]\n"
     ]
    },
    {
     "name": "stdout",
     "output_type": "stream",
     "text": [
      "[Epoch 20] Train Loss: 4.2441 | MAE: 1.6183 | RMSE: 2.0601\n"
     ]
    },
    {
     "name": "stderr",
     "output_type": "stream",
     "text": [
      "[Epoch 20] Validation: 100%|██████████| 38/38 [01:52<00:00,  2.96s/it]\n"
     ]
    },
    {
     "name": "stdout",
     "output_type": "stream",
     "text": [
      "[Epoch 20] Val Loss: 13.2484 | MAE: 2.9621 | RMSE: 3.6398\n"
     ]
    },
    {
     "name": "stderr",
     "output_type": "stream",
     "text": [
      "[Epoch 21] Training: 100%|██████████| 151/151 [13:11<00:00,  5.24s/it]\n"
     ]
    },
    {
     "name": "stdout",
     "output_type": "stream",
     "text": [
      "[Epoch 21] Train Loss: 2.7506 | MAE: 1.2904 | RMSE: 1.6585\n"
     ]
    },
    {
     "name": "stderr",
     "output_type": "stream",
     "text": [
      "[Epoch 21] Validation: 100%|██████████| 38/38 [01:52<00:00,  2.97s/it]\n"
     ]
    },
    {
     "name": "stdout",
     "output_type": "stream",
     "text": [
      "[Epoch 21] Val Loss: 11.3615 | MAE: 2.6868 | RMSE: 3.3707\n"
     ]
    },
    {
     "name": "stderr",
     "output_type": "stream",
     "text": [
      "[Epoch 22] Training: 100%|██████████| 151/151 [13:35<00:00,  5.40s/it]\n"
     ]
    },
    {
     "name": "stdout",
     "output_type": "stream",
     "text": [
      "[Epoch 22] Train Loss: 2.8119 | MAE: 1.3046 | RMSE: 1.6769\n"
     ]
    },
    {
     "name": "stderr",
     "output_type": "stream",
     "text": [
      "[Epoch 22] Validation: 100%|██████████| 38/38 [01:52<00:00,  2.97s/it]\n"
     ]
    },
    {
     "name": "stdout",
     "output_type": "stream",
     "text": [
      "[Epoch 22] Val Loss: 5.9952 | MAE: 1.8594 | RMSE: 2.4485\n"
     ]
    },
    {
     "name": "stderr",
     "output_type": "stream",
     "text": [
      "[Epoch 23] Training: 100%|██████████| 151/151 [13:42<00:00,  5.44s/it]\n"
     ]
    },
    {
     "name": "stdout",
     "output_type": "stream",
     "text": [
      "[Epoch 23] Train Loss: 2.2735 | MAE: 1.1649 | RMSE: 1.5078\n"
     ]
    },
    {
     "name": "stderr",
     "output_type": "stream",
     "text": [
      "[Epoch 23] Validation: 100%|██████████| 38/38 [01:54<00:00,  3.02s/it]\n"
     ]
    },
    {
     "name": "stdout",
     "output_type": "stream",
     "text": [
      "[Epoch 23] Val Loss: 8.1268 | MAE: 2.2156 | RMSE: 2.8508\n"
     ]
    },
    {
     "name": "stderr",
     "output_type": "stream",
     "text": [
      "[Epoch 24] Training: 100%|██████████| 151/151 [13:10<00:00,  5.24s/it]\n"
     ]
    },
    {
     "name": "stdout",
     "output_type": "stream",
     "text": [
      "[Epoch 24] Train Loss: 2.4652 | MAE: 1.2075 | RMSE: 1.5701\n"
     ]
    },
    {
     "name": "stderr",
     "output_type": "stream",
     "text": [
      "[Epoch 24] Validation: 100%|██████████| 38/38 [01:54<00:00,  3.00s/it]\n"
     ]
    },
    {
     "name": "stdout",
     "output_type": "stream",
     "text": [
      "[Epoch 24] Val Loss: 6.8328 | MAE: 2.0580 | RMSE: 2.6140\n"
     ]
    },
    {
     "name": "stderr",
     "output_type": "stream",
     "text": [
      "[Epoch 25] Training: 100%|██████████| 151/151 [13:20<00:00,  5.30s/it]\n"
     ]
    },
    {
     "name": "stdout",
     "output_type": "stream",
     "text": [
      "[Epoch 25] Train Loss: 2.6379 | MAE: 1.2568 | RMSE: 1.6242\n"
     ]
    },
    {
     "name": "stderr",
     "output_type": "stream",
     "text": [
      "[Epoch 25] Validation: 100%|██████████| 38/38 [02:08<00:00,  3.37s/it]\n"
     ]
    },
    {
     "name": "stdout",
     "output_type": "stream",
     "text": [
      "[Epoch 25] Val Loss: 8.8982 | MAE: 2.3221 | RMSE: 2.9830\n"
     ]
    },
    {
     "name": "stderr",
     "output_type": "stream",
     "text": [
      "[Epoch 26] Training: 100%|██████████| 151/151 [13:36<00:00,  5.41s/it]\n"
     ]
    },
    {
     "name": "stdout",
     "output_type": "stream",
     "text": [
      "[Epoch 26] Train Loss: 5.5378 | MAE: 1.8294 | RMSE: 2.3532\n"
     ]
    },
    {
     "name": "stderr",
     "output_type": "stream",
     "text": [
      "[Epoch 26] Validation: 100%|██████████| 38/38 [01:54<00:00,  3.02s/it]\n"
     ]
    },
    {
     "name": "stdout",
     "output_type": "stream",
     "text": [
      "[Epoch 26] Val Loss: 8.1304 | MAE: 2.2185 | RMSE: 2.8514\n"
     ]
    },
    {
     "name": "stderr",
     "output_type": "stream",
     "text": [
      "[Epoch 27] Training: 100%|██████████| 151/151 [13:26<00:00,  5.34s/it]\n"
     ]
    },
    {
     "name": "stdout",
     "output_type": "stream",
     "text": [
      "[Epoch 27] Train Loss: 3.1905 | MAE: 1.3939 | RMSE: 1.7862\n"
     ]
    },
    {
     "name": "stderr",
     "output_type": "stream",
     "text": [
      "[Epoch 27] Validation: 100%|██████████| 38/38 [01:52<00:00,  2.95s/it]\n"
     ]
    },
    {
     "name": "stdout",
     "output_type": "stream",
     "text": [
      "[Epoch 27] Val Loss: 6.5662 | MAE: 1.9827 | RMSE: 2.5625\n"
     ]
    },
    {
     "name": "stderr",
     "output_type": "stream",
     "text": [
      "[Epoch 28] Training: 100%|██████████| 151/151 [13:55<00:00,  5.54s/it]\n"
     ]
    },
    {
     "name": "stdout",
     "output_type": "stream",
     "text": [
      "[Epoch 28] Train Loss: 2.2148 | MAE: 1.1526 | RMSE: 1.4882\n"
     ]
    },
    {
     "name": "stderr",
     "output_type": "stream",
     "text": [
      "[Epoch 28] Validation: 100%|██████████| 38/38 [02:10<00:00,  3.44s/it]\n"
     ]
    },
    {
     "name": "stdout",
     "output_type": "stream",
     "text": [
      "[Epoch 28] Val Loss: 5.8691 | MAE: 1.8737 | RMSE: 2.4226\n"
     ]
    },
    {
     "name": "stderr",
     "output_type": "stream",
     "text": [
      "[Epoch 29] Training: 100%|██████████| 151/151 [13:56<00:00,  5.54s/it]\n"
     ]
    },
    {
     "name": "stdout",
     "output_type": "stream",
     "text": [
      "[Epoch 29] Train Loss: 2.6667 | MAE: 1.2821 | RMSE: 1.6330\n"
     ]
    },
    {
     "name": "stderr",
     "output_type": "stream",
     "text": [
      "[Epoch 29] Validation: 100%|██████████| 38/38 [01:51<00:00,  2.94s/it]\n"
     ]
    },
    {
     "name": "stdout",
     "output_type": "stream",
     "text": [
      "[Epoch 29] Val Loss: 6.0699 | MAE: 1.9029 | RMSE: 2.4637\n"
     ]
    },
    {
     "name": "stderr",
     "output_type": "stream",
     "text": [
      "[Epoch 30] Training: 100%|██████████| 151/151 [13:17<00:00,  5.28s/it]\n"
     ]
    },
    {
     "name": "stdout",
     "output_type": "stream",
     "text": [
      "[Epoch 30] Train Loss: 2.5491 | MAE: 1.2388 | RMSE: 1.5966\n"
     ]
    },
    {
     "name": "stderr",
     "output_type": "stream",
     "text": [
      "[Epoch 30] Validation: 100%|██████████| 38/38 [01:55<00:00,  3.03s/it]"
     ]
    },
    {
     "name": "stdout",
     "output_type": "stream",
     "text": [
      "[Epoch 30] Val Loss: 6.3817 | MAE: 1.9469 | RMSE: 2.5262\n"
     ]
    },
    {
     "name": "stderr",
     "output_type": "stream",
     "text": [
      "\n"
     ]
    }
   ],
   "source": [
    "from sklearn.metrics import mean_absolute_error, mean_squared_error\n",
    "import torch\n",
    "import numpy as np\n",
    "from tqdm import tqdm\n",
    "import matplotlib.pyplot as plt\n",
    "\n",
    "# --- 결과 저장 리스트 ---\n",
    "train_loss_history = []\n",
    "train_mae_history = []\n",
    "train_rmse_history = []\n",
    "\n",
    "val_loss_history = []\n",
    "val_mae_history = []\n",
    "val_rmse_history = []\n",
    "\n",
    "for epoch in range(30):\n",
    "    # ----- Train -----\n",
    "    model.train()\n",
    "    train_loss = 0\n",
    "    all_preds = []\n",
    "    all_labels = []\n",
    "\n",
    "    for images, ages in tqdm(train_loader, desc=f\"[Epoch {epoch+1}] Training\"):\n",
    "        images, ages = images.to(device), ages.to(device)\n",
    "\n",
    "        preds = model(images).squeeze()\n",
    "        loss = criterion(preds, ages.float())\n",
    "\n",
    "        optimizer.zero_grad()\n",
    "        loss.backward()\n",
    "        optimizer.step()\n",
    "\n",
    "        train_loss += loss.item() * images.size(0)\n",
    "        all_preds.extend(preds.detach().cpu().numpy())\n",
    "        all_labels.extend(ages.detach().cpu().numpy())\n",
    "\n",
    "    avg_loss = train_loss / len(train_loader.dataset)\n",
    "    mae = mean_absolute_error(all_labels, all_preds)\n",
    "    rmse = mean_squared_error(all_labels, all_preds, squared=False)\n",
    "\n",
    "    train_loss_history.append(avg_loss)\n",
    "    train_mae_history.append(mae)\n",
    "    train_rmse_history.append(rmse)\n",
    "\n",
    "    print(f\"[Epoch {epoch+1}] Train Loss: {avg_loss:.4f} | MAE: {mae:.4f} | RMSE: {rmse:.4f}\")\n",
    "\n",
    "    # ----- Validation -----\n",
    "    model.eval()\n",
    "    total_loss = 0.0\n",
    "    true_ages, pred_ages = [], []\n",
    "\n",
    "    with torch.no_grad():\n",
    "        for images, ages in tqdm(val_loader, desc=f\"[Epoch {epoch+1}] Validation\"):\n",
    "            images = images.to(device)\n",
    "            ages = ages.to(device)\n",
    "\n",
    "            preds = model(images).squeeze()\n",
    "            loss = criterion(preds, ages.float())\n",
    "\n",
    "            total_loss += loss.item() * images.size(0)\n",
    "            true_ages.extend(ages.detach().cpu().numpy())\n",
    "            pred_ages.extend(preds.detach().cpu().numpy())\n",
    "\n",
    "    val_avg_loss = total_loss / len(val_loader.dataset)\n",
    "    v_mae = mean_absolute_error(true_ages, pred_ages)\n",
    "    v_rmse = mean_squared_error(true_ages, pred_ages, squared=False)\n",
    "\n",
    "    val_loss_history.append(val_avg_loss)\n",
    "    val_mae_history.append(v_mae)\n",
    "    val_rmse_history.append(v_rmse)\n",
    "\n",
    "    print(f\"[Epoch {epoch+1}] Val Loss: {val_avg_loss:.4f} | MAE: {v_mae:.4f} | RMSE: {v_rmse:.4f}\")"
   ]
  },
  {
   "cell_type": "code",
   "execution_count": 20,
   "metadata": {},
   "outputs": [
    {
     "data": {
      "image/png": "[encoded data removed]",
      "text/plain": [
       "<Figure size 2000x500 with 3 Axes>"
      ]
     },
     "metadata": {},
     "output_type": "display_data"
    }
   ],
   "source": [
    "#시각화\n",
    "epochs = range(1, len(train_loss_history) + 1)\n",
    "\n",
    "plt.figure(figsize=(20, 5))\n",
    "\n",
    "plt.subplot(1, 3, 1)\n",
    "plt.plot(epochs, train_loss_history, label='Train Loss')\n",
    "plt.plot(epochs, val_loss_history, label='Val Loss')\n",
    "plt.title('Loss')\n",
    "plt.xlabel('Epoch')\n",
    "plt.ylabel('Loss')\n",
    "plt.legend()\n",
    "plt.grid(True)\n",
    "\n",
    "plt.subplot(1, 3, 2)\n",
    "plt.plot(epochs, train_mae_history, label='Train MAE', color='green')\n",
    "plt.plot(epochs, val_mae_history, label='Val MAE', color='orange')\n",
    "plt.title('MAE')\n",
    "plt.xlabel('Epoch')\n",
    "plt.ylabel('MAE')\n",
    "plt.legend()\n",
    "plt.grid(True)\n",
    "\n",
    "plt.subplot(1, 3, 3)\n",
    "plt.plot(epochs, train_rmse_history, label='Train RMSE', color='red')\n",
    "plt.plot(epochs, val_rmse_history, label='Val RMSE', color='purple')\n",
    "plt.title('RMSE')\n",
    "plt.xlabel('Epoch')\n",
    "plt.ylabel('RMSE')\n",
    "plt.legend()\n",
    "plt.grid(True)\n",
    "\n",
    "plt.tight_layout()\n",
    "plt.show()"
   ]
  }
 ],
 "metadata": {
  "colab": {
   "provenance": []
  },
  "kernelspec": {
   "display_name": "alpacosry",
   "language": "python",
   "name": "python3"
  },
  "language_info": {
   "codemirror_mode": {
    "name": "ipython",
    "version": 3
   },
   "file_extension": ".py",
   "mimetype": "text/x-python",
   "name": "python",
   "nbconvert_exporter": "python",
   "pygments_lexer": "ipython3",
   "version": "3.8.20"
  }
 },
 "nbformat": 4,
 "nbformat_minor": 0
}
