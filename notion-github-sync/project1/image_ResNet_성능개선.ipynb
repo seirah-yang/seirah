{
 "cells": [
  {
   "cell_type": "code",
   "execution_count": 3,
   "metadata": {},
   "outputs": [],
   "source": [
    "import os\n",
    "import cv2\n",
    "import json\n",
    "import torch\n",
    "import numpy as np\n",
    "\n",
    "from PIL import Image\n",
    "from torch.utils.data import Dataset\n",
    "from matplotlib import pyplot as plt\n",
    "# !pip install torch torchvision pandas scikit-learn"
   ]
  },
  {
   "cell_type": "code",
   "execution_count": 4,
   "metadata": {},
   "outputs": [],
   "source": [
    "def collect_image_age_pairs(image_root_dir, json_root_dir):\n",
    "    pairs = []\n",
    "    \n",
    "    # subject_id dir 반복\n",
    "    subject_ids = sorted([d for d in os.listdir(image_root_dir) if os.path.isdir(os.path.join(image_root_dir, d))])\n",
    "    \n",
    "    print(f\"총 subject 수: {len(subject_ids)}\")\n",
    "    \n",
    "    for subject_id in subject_ids:\n",
    "        subject_image_dir = os.path.join(image_root_dir, subject_id)\n",
    "        subject_json_dir = os.path.join(json_root_dir, subject_id)\n",
    "        if not os.path.exists(subject_json_dir):\n",
    "            print(f\"[경고] JSON 디렉토리 없음: {subject_json_dir}\")\n",
    "            continue\n",
    "        \n",
    "        #이미지 파일 중 Jpg만 추출\n",
    "        jpg_files = [f for f in os.listdir(subject_image_dir) if f.endswith('.jpg')]\n",
    "        \n",
    "        for jpg_file in jpg_files:\n",
    "            base_name = jpg_file.replace('.jpg', '')\n",
    "            json_filename = f\"{base_name}_00.json\"\n",
    "            json_path = os.path.join(subject_json_dir, json_filename)\n",
    "            jpg_path = os.path.join(subject_image_dir, jpg_file)\n",
    "            \n",
    "            if os.path.exists(json_path):\n",
    "                try:\n",
    "                    with open(json_path, 'r', encoding='utf-8') as f:\n",
    "                        data = json.load(f)\n",
    "                        age = data['info']['age'] #info[4]\n",
    "                        pairs.append((jpg_path, age))\n",
    "                        \n",
    "                except Exception as e:\n",
    "                    print(f\"[오류] JSON 파싱 실패: {json_path} - {e}\")\n",
    "            else:\n",
    "                print(f\"[경고] JSON 파일 없음: {json_path}\")\n",
    "                \n",
    "    return pairs"
   ]
  },
  {
   "cell_type": "code",
   "execution_count": 6,
   "metadata": {},
   "outputs": [
    {
     "name": "stdout",
     "output_type": "stream",
     "text": [
      "총 subject 수: 858\n",
      "총 매칭 이미지 수: 6006\n",
      "샘플 10:\n",
      "('/home/alpaco/yskim/data/Training/origin/digitalCamera/0002/0002_01_L15.jpg', 50)\n",
      "('/home/alpaco/yskim/data/Training/origin/digitalCamera/0002/0002_01_Fb.jpg', 50)\n",
      "('/home/alpaco/yskim/data/Training/origin/digitalCamera/0002/0002_01_L30.jpg', 50)\n",
      "('/home/alpaco/yskim/data/Training/origin/digitalCamera/0002/0002_01_Ft.jpg', 50)\n",
      "('/home/alpaco/yskim/data/Training/origin/digitalCamera/0002/0002_01_F.jpg', 50)\n",
      "('/home/alpaco/yskim/data/Training/origin/digitalCamera/0002/0002_01_R15.jpg', 50)\n",
      "('/home/alpaco/yskim/data/Training/origin/digitalCamera/0002/0002_01_R30.jpg', 50)\n",
      "('/home/alpaco/yskim/data/Training/origin/digitalCamera/0003/0003_01_Fb.jpg', 24)\n",
      "('/home/alpaco/yskim/data/Training/origin/digitalCamera/0003/0003_01_F.jpg', 24)\n",
      "('/home/alpaco/yskim/data/Training/origin/digitalCamera/0003/0003_01_L15.jpg', 24)\n"
     ]
    }
   ],
   "source": [
    "#루트 경로 \n",
    "image_root = '/home/alpaco/yskim/data/Training/origin/digitalCamera'\n",
    "json_root = '/home/alpaco/yskim/data/Training/lable/digitalCamera'\n",
    "\n",
    "# 실행\n",
    "image_age_pairs = collect_image_age_pairs(image_root, json_root)\n",
    "\n",
    "# 결과\n",
    "print(f\"총 매칭 이미지 수: {len(image_age_pairs)}\")\n",
    "print(\"샘플 10:\")\n",
    "for i in range(min(10, len(image_age_pairs))):\n",
    "    print(image_age_pairs[i])"
   ]
  },
  {
   "cell_type": "code",
   "execution_count": 7,
   "metadata": {},
   "outputs": [
    {
     "name": "stdout",
     "output_type": "stream",
     "text": [
      "                                          image_path  age\n",
      "0  /home/alpaco/yskim/data/Training/origin/digita...   50\n",
      "1  /home/alpaco/yskim/data/Training/origin/digita...   50\n",
      "2  /home/alpaco/yskim/data/Training/origin/digita...   50\n",
      "3  /home/alpaco/yskim/data/Training/origin/digita...   50\n",
      "4  /home/alpaco/yskim/data/Training/origin/digita...   50\n"
     ]
    }
   ],
   "source": [
    "import pandas as pd\n",
    "\n",
    "df = pd.DataFrame(image_age_pairs, columns=['image_path', 'age'])\n",
    "print(df.head())"
   ]
  },
  {
   "cell_type": "code",
   "execution_count": 8,
   "metadata": {},
   "outputs": [
    {
     "ename": "TypeError",
     "evalue": "read_csv() got an unexpected keyword argument 'columns'",
     "output_type": "error",
     "traceback": [
      "\u001b[0;31m---------------------------------------------------------------------------\u001b[0m",
      "\u001b[0;31mTypeError\u001b[0m                                 Traceback (most recent call last)",
      "Cell \u001b[0;32mIn[8], line 2\u001b[0m\n\u001b[1;32m      1\u001b[0m \u001b[38;5;66;03m# 데이터 준비\u001b[39;00m\n\u001b[0;32m----> 2\u001b[0m df \u001b[38;5;241m=\u001b[39m \u001b[43mpd\u001b[49m\u001b[38;5;241;43m.\u001b[39;49m\u001b[43mread_csv\u001b[49m\u001b[43m(\u001b[49m\u001b[43mimage_age_pairs\u001b[49m\u001b[43m,\u001b[49m\u001b[43m \u001b[49m\u001b[43mcolumns\u001b[49m\u001b[38;5;241;43m=\u001b[39;49m\u001b[43m[\u001b[49m\u001b[38;5;124;43m'\u001b[39;49m\u001b[38;5;124;43mimage_path\u001b[39;49m\u001b[38;5;124;43m'\u001b[39;49m\u001b[43m,\u001b[49m\u001b[43m \u001b[49m\u001b[38;5;124;43m'\u001b[39;49m\u001b[38;5;124;43mage\u001b[39;49m\u001b[38;5;124;43m'\u001b[39;49m\u001b[43m]\u001b[49m\u001b[43m)\u001b[49m\n\u001b[1;32m      3\u001b[0m \u001b[38;5;28mprint\u001b[39m(df\u001b[38;5;241m.\u001b[39mhead())\n",
      "\u001b[0;31mTypeError\u001b[0m: read_csv() got an unexpected keyword argument 'columns'"
     ]
    }
   ],
   "source": [
    "# 데이터 준비\n",
    "df = pd.read_csv(image_age_pairs, columns=['image_path', 'age'])\n",
    "print(df.head())"
   ]
  },
  {
   "cell_type": "markdown",
   "metadata": {},
   "source": [
    "### ResNet 학습\n",
    "1. data준비\n",
    "2. custom dataset 클래스 정의\n",
    "3. 이미지 전처리\n",
    "    - Horizontal equalize\n",
    "4. 모델 구성(ResNet)\n",
    "5. Regression Loss (MSELoss)\n",
    "6. 학습루프 작성(Train/val)\n",
    "7. 성능평가(MAE, RMSE)"
   ]
  },
  {
   "cell_type": "code",
   "execution_count": 9,
   "metadata": {},
   "outputs": [
    {
     "name": "stdout",
     "output_type": "stream",
     "text": [
      "Requirement already satisfied: torch in /home/alpaco/anaconda3/envs/alpacoyskim/lib/python3.8/site-packages (2.4.1+cu118)\n",
      "Requirement already satisfied: torchvision in /home/alpaco/anaconda3/envs/alpacoyskim/lib/python3.8/site-packages (0.19.1+cu118)\n",
      "Requirement already satisfied: pandas in /home/alpaco/anaconda3/envs/alpacoyskim/lib/python3.8/site-packages (2.0.3)\n",
      "Requirement already satisfied: scikit-learn in /home/alpaco/anaconda3/envs/alpacoyskim/lib/python3.8/site-packages (1.3.2)\n",
      "Requirement already satisfied: timm in /home/alpaco/anaconda3/envs/alpacoyskim/lib/python3.8/site-packages (1.0.16)\n",
      "Requirement already satisfied: filelock in /home/alpaco/anaconda3/envs/alpacoyskim/lib/python3.8/site-packages (from torch) (3.13.1)\n",
      "Requirement already satisfied: typing-extensions>=4.8.0 in /home/alpaco/anaconda3/envs/alpacoyskim/lib/python3.8/site-packages (from torch) (4.13.2)\n",
      "Requirement already satisfied: sympy in /home/alpaco/anaconda3/envs/alpacoyskim/lib/python3.8/site-packages (from torch) (1.13.3)\n",
      "Requirement already satisfied: networkx in /home/alpaco/anaconda3/envs/alpacoyskim/lib/python3.8/site-packages (from torch) (3.0)\n",
      "Requirement already satisfied: jinja2 in /home/alpaco/anaconda3/envs/alpacoyskim/lib/python3.8/site-packages (from torch) (3.1.4)\n",
      "Requirement already satisfied: fsspec in /home/alpaco/anaconda3/envs/alpacoyskim/lib/python3.8/site-packages (from torch) (2024.6.1)\n",
      "Requirement already satisfied: nvidia-cuda-nvrtc-cu11==11.8.89 in /home/alpaco/anaconda3/envs/alpacoyskim/lib/python3.8/site-packages (from torch) (11.8.89)\n",
      "Requirement already satisfied: nvidia-cuda-runtime-cu11==11.8.89 in /home/alpaco/anaconda3/envs/alpacoyskim/lib/python3.8/site-packages (from torch) (11.8.89)\n",
      "Requirement already satisfied: nvidia-cuda-cupti-cu11==11.8.87 in /home/alpaco/anaconda3/envs/alpacoyskim/lib/python3.8/site-packages (from torch) (11.8.87)\n",
      "Requirement already satisfied: nvidia-cudnn-cu11==9.1.0.70 in /home/alpaco/anaconda3/envs/alpacoyskim/lib/python3.8/site-packages (from torch) (9.1.0.70)\n",
      "Requirement already satisfied: nvidia-cublas-cu11==11.11.3.6 in /home/alpaco/anaconda3/envs/alpacoyskim/lib/python3.8/site-packages (from torch) (11.11.3.6)\n",
      "Requirement already satisfied: nvidia-cufft-cu11==10.9.0.58 in /home/alpaco/anaconda3/envs/alpacoyskim/lib/python3.8/site-packages (from torch) (10.9.0.58)\n",
      "Requirement already satisfied: nvidia-curand-cu11==10.3.0.86 in /home/alpaco/anaconda3/envs/alpacoyskim/lib/python3.8/site-packages (from torch) (10.3.0.86)\n",
      "Requirement already satisfied: nvidia-cusolver-cu11==11.4.1.48 in /home/alpaco/anaconda3/envs/alpacoyskim/lib/python3.8/site-packages (from torch) (11.4.1.48)\n",
      "Requirement already satisfied: nvidia-cusparse-cu11==11.7.5.86 in /home/alpaco/anaconda3/envs/alpacoyskim/lib/python3.8/site-packages (from torch) (11.7.5.86)\n",
      "Requirement already satisfied: nvidia-nccl-cu11==2.20.5 in /home/alpaco/anaconda3/envs/alpacoyskim/lib/python3.8/site-packages (from torch) (2.20.5)\n",
      "Requirement already satisfied: nvidia-nvtx-cu11==11.8.86 in /home/alpaco/anaconda3/envs/alpacoyskim/lib/python3.8/site-packages (from torch) (11.8.86)\n",
      "Requirement already satisfied: triton==3.0.0 in /home/alpaco/anaconda3/envs/alpacoyskim/lib/python3.8/site-packages (from torch) (3.0.0)\n",
      "Requirement already satisfied: numpy in /home/alpaco/anaconda3/envs/alpacoyskim/lib/python3.8/site-packages (from torchvision) (1.24.4)\n",
      "Requirement already satisfied: pillow!=8.3.*,>=5.3.0 in /home/alpaco/anaconda3/envs/alpacoyskim/lib/python3.8/site-packages (from torchvision) (10.4.0)\n",
      "Requirement already satisfied: python-dateutil>=2.8.2 in /home/alpaco/anaconda3/envs/alpacoyskim/lib/python3.8/site-packages (from pandas) (2.9.0.post0)\n",
      "Requirement already satisfied: pytz>=2020.1 in /home/alpaco/anaconda3/envs/alpacoyskim/lib/python3.8/site-packages (from pandas) (2025.2)\n",
      "Requirement already satisfied: tzdata>=2022.1 in /home/alpaco/anaconda3/envs/alpacoyskim/lib/python3.8/site-packages (from pandas) (2025.2)\n",
      "Requirement already satisfied: scipy>=1.5.0 in /home/alpaco/anaconda3/envs/alpacoyskim/lib/python3.8/site-packages (from scikit-learn) (1.10.1)\n",
      "Requirement already satisfied: joblib>=1.1.1 in /home/alpaco/anaconda3/envs/alpacoyskim/lib/python3.8/site-packages (from scikit-learn) (1.4.2)\n",
      "Requirement already satisfied: threadpoolctl>=2.0.0 in /home/alpaco/anaconda3/envs/alpacoyskim/lib/python3.8/site-packages (from scikit-learn) (3.5.0)\n",
      "Requirement already satisfied: pyyaml in /home/alpaco/anaconda3/envs/alpacoyskim/lib/python3.8/site-packages (from timm) (6.0.2)\n",
      "Requirement already satisfied: huggingface_hub in /home/alpaco/anaconda3/envs/alpacoyskim/lib/python3.8/site-packages (from timm) (0.24.7)\n",
      "Requirement already satisfied: safetensors in /home/alpaco/anaconda3/envs/alpacoyskim/lib/python3.8/site-packages (from timm) (0.5.3)\n",
      "Requirement already satisfied: six>=1.5 in /home/alpaco/anaconda3/envs/alpacoyskim/lib/python3.8/site-packages (from python-dateutil>=2.8.2->pandas) (1.16.0)\n",
      "Requirement already satisfied: packaging>=20.9 in /home/alpaco/anaconda3/envs/alpacoyskim/lib/python3.8/site-packages (from huggingface_hub->timm) (24.1)\n",
      "Requirement already satisfied: requests in /home/alpaco/anaconda3/envs/alpacoyskim/lib/python3.8/site-packages (from huggingface_hub->timm) (2.32.4)\n",
      "Requirement already satisfied: tqdm>=4.42.1 in /home/alpaco/anaconda3/envs/alpacoyskim/lib/python3.8/site-packages (from huggingface_hub->timm) (4.67.1)\n",
      "Requirement already satisfied: MarkupSafe>=2.0 in /home/alpaco/anaconda3/envs/alpacoyskim/lib/python3.8/site-packages (from jinja2->torch) (2.1.5)\n",
      "Requirement already satisfied: mpmath<1.4,>=1.1.0 in /home/alpaco/anaconda3/envs/alpacoyskim/lib/python3.8/site-packages (from sympy->torch) (1.3.0)\n",
      "Requirement already satisfied: charset_normalizer<4,>=2 in /home/alpaco/anaconda3/envs/alpacoyskim/lib/python3.8/site-packages (from requests->huggingface_hub->timm) (3.4.2)\n",
      "Requirement already satisfied: idna<4,>=2.5 in /home/alpaco/anaconda3/envs/alpacoyskim/lib/python3.8/site-packages (from requests->huggingface_hub->timm) (3.7)\n",
      "Requirement already satisfied: urllib3<3,>=1.21.1 in /home/alpaco/anaconda3/envs/alpacoyskim/lib/python3.8/site-packages (from requests->huggingface_hub->timm) (1.26.20)\n",
      "Requirement already satisfied: certifi>=2017.4.17 in /home/alpaco/anaconda3/envs/alpacoyskim/lib/python3.8/site-packages (from requests->huggingface_hub->timm) (2025.6.15)\n"
     ]
    }
   ],
   "source": [
    "!pip install torch torchvision pandas scikit-learn timm pandas"
   ]
  },
  {
   "cell_type": "code",
   "execution_count": 10,
   "metadata": {},
   "outputs": [],
   "source": [
    "df = pd.DataFrame(image_age_pairs, columns=['image_path', 'age'])"
   ]
  },
  {
   "cell_type": "code",
   "execution_count": 11,
   "metadata": {},
   "outputs": [],
   "source": [
    "# Dataset 정의 \n",
    "class AgeDataset(Dataset):\n",
    "    def __init__(self, dataframe, transform=None):\n",
    "        self.df = dataframe\n",
    "        self.transform = transform\n",
    "\n",
    "    def __len__(self):\n",
    "        return len(self.df)\n",
    "    \n",
    "    def __getitem__(self, idx):\n",
    "        img_path = self.df.iloc[idx]['image_path']\n",
    "        age = self.df.iloc[idx]['age']\n",
    "        image = Image.open(img_path).convert(\"RGB\")\n",
    "    \n",
    "        if self.transform:\n",
    "            image = self.transform(image)\n",
    "    \n",
    "        return image, torch.tensor(age, dtype=torch.float32)"
   ]
  },
  {
   "cell_type": "code",
   "execution_count": 13,
   "metadata": {},
   "outputs": [
    {
     "name": "stdout",
     "output_type": "stream",
     "text": [
      "Requirement already satisfied: scikit-image in /home/alpaco/anaconda3/envs/alpacoyskim/lib/python3.8/site-packages (0.21.0)\n",
      "Requirement already satisfied: numpy>=1.21.1 in /home/alpaco/anaconda3/envs/alpacoyskim/lib/python3.8/site-packages (from scikit-image) (1.24.4)\n",
      "Requirement already satisfied: scipy>=1.8 in /home/alpaco/anaconda3/envs/alpacoyskim/lib/python3.8/site-packages (from scikit-image) (1.10.1)\n",
      "Requirement already satisfied: networkx>=2.8 in /home/alpaco/anaconda3/envs/alpacoyskim/lib/python3.8/site-packages (from scikit-image) (3.0)\n",
      "Requirement already satisfied: pillow>=9.0.1 in /home/alpaco/anaconda3/envs/alpacoyskim/lib/python3.8/site-packages (from scikit-image) (10.4.0)\n",
      "Requirement already satisfied: imageio>=2.27 in /home/alpaco/anaconda3/envs/alpacoyskim/lib/python3.8/site-packages (from scikit-image) (2.35.1)\n",
      "Requirement already satisfied: tifffile>=2022.8.12 in /home/alpaco/anaconda3/envs/alpacoyskim/lib/python3.8/site-packages (from scikit-image) (2023.7.10)\n",
      "Requirement already satisfied: PyWavelets>=1.1.1 in /home/alpaco/anaconda3/envs/alpacoyskim/lib/python3.8/site-packages (from scikit-image) (1.4.1)\n",
      "Requirement already satisfied: packaging>=21 in /home/alpaco/anaconda3/envs/alpacoyskim/lib/python3.8/site-packages (from scikit-image) (24.1)\n",
      "Requirement already satisfied: lazy_loader>=0.2 in /home/alpaco/anaconda3/envs/alpacoyskim/lib/python3.8/site-packages (from scikit-image) (0.4)\n"
     ]
    }
   ],
   "source": [
    "!pip install scikit-image"
   ]
  },
  {
   "cell_type": "code",
   "execution_count": 14,
   "metadata": {},
   "outputs": [
    {
     "name": "stdout",
     "output_type": "stream",
     "text": [
      "Requirement already satisfied: gdown in /home/alpaco/anaconda3/envs/alpacoyskim/lib/python3.8/site-packages (4.6.3)\n",
      "Collecting gdown\n",
      "  Using cached gdown-5.2.0-py3-none-any.whl.metadata (5.8 kB)\n",
      "Requirement already satisfied: beautifulsoup4 in /home/alpaco/anaconda3/envs/alpacoyskim/lib/python3.8/site-packages (from gdown) (4.13.4)\n",
      "Requirement already satisfied: filelock in /home/alpaco/anaconda3/envs/alpacoyskim/lib/python3.8/site-packages (from gdown) (3.13.1)\n",
      "Requirement already satisfied: requests[socks] in /home/alpaco/anaconda3/envs/alpacoyskim/lib/python3.8/site-packages (from gdown) (2.32.4)\n",
      "Requirement already satisfied: tqdm in /home/alpaco/anaconda3/envs/alpacoyskim/lib/python3.8/site-packages (from gdown) (4.67.1)\n",
      "Requirement already satisfied: soupsieve>1.2 in /home/alpaco/anaconda3/envs/alpacoyskim/lib/python3.8/site-packages (from beautifulsoup4->gdown) (2.7)\n",
      "Requirement already satisfied: typing-extensions>=4.0.0 in /home/alpaco/anaconda3/envs/alpacoyskim/lib/python3.8/site-packages (from beautifulsoup4->gdown) (4.13.2)\n",
      "Requirement already satisfied: charset_normalizer<4,>=2 in /home/alpaco/anaconda3/envs/alpacoyskim/lib/python3.8/site-packages (from requests[socks]->gdown) (3.4.2)\n",
      "Requirement already satisfied: idna<4,>=2.5 in /home/alpaco/anaconda3/envs/alpacoyskim/lib/python3.8/site-packages (from requests[socks]->gdown) (3.7)\n",
      "Requirement already satisfied: urllib3<3,>=1.21.1 in /home/alpaco/anaconda3/envs/alpacoyskim/lib/python3.8/site-packages (from requests[socks]->gdown) (1.26.20)\n",
      "Requirement already satisfied: certifi>=2017.4.17 in /home/alpaco/anaconda3/envs/alpacoyskim/lib/python3.8/site-packages (from requests[socks]->gdown) (2025.6.15)\n",
      "Requirement already satisfied: PySocks!=1.5.7,>=1.5.6 in /home/alpaco/anaconda3/envs/alpacoyskim/lib/python3.8/site-packages (from requests[socks]->gdown) (1.7.1)\n",
      "Using cached gdown-5.2.0-py3-none-any.whl (18 kB)\n",
      "Installing collected packages: gdown\n",
      "  Attempting uninstall: gdown\n",
      "    Found existing installation: gdown 4.6.3\n",
      "    Uninstalling gdown-4.6.3:\n",
      "      Successfully uninstalled gdown-4.6.3\n",
      "Successfully installed gdown-5.2.0\n"
     ]
    }
   ],
   "source": [
    "!pip install --upgrade gdown"
   ]
  },
  {
   "cell_type": "code",
   "execution_count": 15,
   "metadata": {},
   "outputs": [
    {
     "name": "stdout",
     "output_type": "stream",
     "text": [
      "Collecting gdown==v4.6.3\n",
      "  Using cached gdown-4.6.3-py3-none-any.whl.metadata (4.4 kB)\n",
      "Requirement already satisfied: filelock in /home/alpaco/anaconda3/envs/alpacoyskim/lib/python3.8/site-packages (from gdown==v4.6.3) (3.13.1)\n",
      "Requirement already satisfied: requests[socks] in /home/alpaco/anaconda3/envs/alpacoyskim/lib/python3.8/site-packages (from gdown==v4.6.3) (2.32.4)\n",
      "Requirement already satisfied: six in /home/alpaco/anaconda3/envs/alpacoyskim/lib/python3.8/site-packages (from gdown==v4.6.3) (1.16.0)\n",
      "Requirement already satisfied: tqdm in /home/alpaco/anaconda3/envs/alpacoyskim/lib/python3.8/site-packages (from gdown==v4.6.3) (4.67.1)\n",
      "Requirement already satisfied: beautifulsoup4 in /home/alpaco/anaconda3/envs/alpacoyskim/lib/python3.8/site-packages (from gdown==v4.6.3) (4.13.4)\n",
      "Requirement already satisfied: soupsieve>1.2 in /home/alpaco/anaconda3/envs/alpacoyskim/lib/python3.8/site-packages (from beautifulsoup4->gdown==v4.6.3) (2.7)\n",
      "Requirement already satisfied: typing-extensions>=4.0.0 in /home/alpaco/anaconda3/envs/alpacoyskim/lib/python3.8/site-packages (from beautifulsoup4->gdown==v4.6.3) (4.13.2)\n",
      "Requirement already satisfied: charset_normalizer<4,>=2 in /home/alpaco/anaconda3/envs/alpacoyskim/lib/python3.8/site-packages (from requests[socks]->gdown==v4.6.3) (3.4.2)\n",
      "Requirement already satisfied: idna<4,>=2.5 in /home/alpaco/anaconda3/envs/alpacoyskim/lib/python3.8/site-packages (from requests[socks]->gdown==v4.6.3) (3.7)\n",
      "Requirement already satisfied: urllib3<3,>=1.21.1 in /home/alpaco/anaconda3/envs/alpacoyskim/lib/python3.8/site-packages (from requests[socks]->gdown==v4.6.3) (1.26.20)\n",
      "Requirement already satisfied: certifi>=2017.4.17 in /home/alpaco/anaconda3/envs/alpacoyskim/lib/python3.8/site-packages (from requests[socks]->gdown==v4.6.3) (2025.6.15)\n",
      "Requirement already satisfied: PySocks!=1.5.7,>=1.5.6 in /home/alpaco/anaconda3/envs/alpacoyskim/lib/python3.8/site-packages (from requests[socks]->gdown==v4.6.3) (1.7.1)\n",
      "Using cached gdown-4.6.3-py3-none-any.whl (14 kB)\n",
      "Installing collected packages: gdown\n",
      "  Attempting uninstall: gdown\n",
      "    Found existing installation: gdown 5.2.0\n",
      "    Uninstalling gdown-5.2.0:\n",
      "      Successfully uninstalled gdown-5.2.0\n",
      "Successfully installed gdown-4.6.3\n"
     ]
    }
   ],
   "source": [
    "!pip install gdown==v4.6.3"
   ]
  },
  {
   "cell_type": "code",
   "execution_count": 16,
   "metadata": {},
   "outputs": [],
   "source": [
    "from skimage import io, exposure, img_as_ubyte\n",
    "from skimage.color import rgb2gray\n",
    "import matplotlib.pyplot as plt\n",
    "from torch.utils.data import Dataset\n",
    "from PIL import Image\n",
    "import torch\n",
    "import os\n",
    "from torchvision import transforms\n",
    "\n",
    "%matplotlib inline"
   ]
  },
  {
   "cell_type": "code",
   "execution_count": null,
   "metadata": {},
   "outputs": [],
   "source": [
    "# Horizontal Equalizing\n",
    "image_root = '/home/alpaco/yskim/data/Training/origin/digitalCamera'\n",
    "output_folder = '/home/alpaco/yskim/data/Training/CLAHE/digitalCamera'\n",
    "os.makedirs(output_folder, exist_ok=True)\n",
    "\n",
    "image_files = [f for f in os.listdir(image_root) if f.lower().endswith('.jpg')]\n",
    "\n",
    "for file in image_files:\n",
    "    image_path = os.path.join(image_root, file)\n",
    "    image = io.imread(image_path)\n",
    "\n",
    "    if image.ndim == 3:\n",
    "        image_gray = rgb2gray(image)\n",
    "    else:\n",
    "        image_gray = image\n",
    "\n",
    "    equalized = exposure.equalize_adapthist(image_gray, clip_limit=0.03)\n",
    "    output_path = os.path.join(output_folder, f'equalized_{file}')\n",
    "    io.imsave(output_path, img_as_ubyte(equalized))\n",
    "    print(f\"Saved: {output_path}\")"
   ]
  },
  {
   "cell_type": "code",
   "execution_count": 18,
   "metadata": {},
   "outputs": [],
   "source": [
    "# Custom Data\n",
    "\n",
    "class AgeRegressionDataset(Dataset):\n",
    "    def __init__(self, dataframe, transform=None):\n",
    "        self.df = dataframe\n",
    "        self.transform = transform\n",
    "    def __len__(self):\n",
    "        return len(self.df)\n",
    "    def __getitem__(self, idx):\n",
    "        img_path = self.df.iloc[idx]['image_path']\n",
    "        age = self.df.iloc[idx]['age']\n",
    "        image = Image.open(img_path).convert(\"RGB\")\n",
    "        if self.transform:\n",
    "            image = self.transform(image)\n",
    "        return image, torch.tensor(age, dtype=torch.float32)"
   ]
  },
  {
   "cell_type": "code",
   "execution_count": null,
   "metadata": {},
   "outputs": [],
   "source": [
    "# transform 정의 \n",
    "transform = transforms.Compose([\n",
    "    transforms.Resize((224, 224)),\n",
    "    transforms.ToTensor(),\n",
    "    transforms.Normalize([0.5]*3, [0.5]*3)  "
   ]
  },
  {
   "cell_type": "code",
   "execution_count": null,
   "metadata": {},
   "outputs": [],
   "source": [
    "#데이터 분할\n",
    "from sklearn.model_selection import train_test_split\n",
    "from torch.utils.data import DataLoader\n",
    "\n",
    "df = pd.DataFrame(image_age_pairs, columns=['image_path', 'age'])\n",
    "train_df, val_df = train_test_split(df, test_size=0.2, random_state=42)\n",
    "\n",
    "train_dataset = AgeRegressionDataset(train_df, transform=transform)\n",
    "val_dataset = AgeRegressionDataset(val_df, transform=transform)\n",
    "\n",
    "train_loader = DataLoader(train_dataset, batch_size=32, shuffle=True)\n",
    "val_loader = DataLoader(val_dataset, batch_size=32, shuffle=False)"
   ]
  },
  {
   "cell_type": "code",
   "execution_count": null,
   "metadata": {},
   "outputs": [],
   "source": [
    "#ResNet regression 학습\n",
    "class AgeRegressor(nn.Module):\n",
    "    def __init__(self):\n",
    "        super(AgeRegressor, self).__init__()\n",
    "        self.backbone = models.resnet50(pretrained=True)\n",
    "        self.backbone.fc = nn.Linear(self.backbone.fc.in_features, 1) \n",
    "    \n",
    "    def forward(self, x):\n",
    "        return self.backbone(x).squeeze(1)"
   ]
  },
  {
   "cell_type": "code",
   "execution_count": null,
   "metadata": {},
   "outputs": [
    {
     "name": "stderr",
     "output_type": "stream",
     "text": [
      "/home/alpaco/anaconda3/envs/alpacoyskim/lib/python3.8/site-packages/torchvision/models/_utils.py:208: UserWarning: The parameter 'pretrained' is deprecated since 0.13 and may be removed in the future, please use 'weights' instead.\n",
      "  warnings.warn(\n",
      "/home/alpaco/anaconda3/envs/alpacoyskim/lib/python3.8/site-packages/torchvision/models/_utils.py:223: UserWarning: Arguments other than a weight enum or `None` for 'weights' are deprecated since 0.13 and may be removed in the future. The current behavior is equivalent to passing `weights=ResNet50_Weights.IMAGENET1K_V1`. You can also use `weights=ResNet50_Weights.DEFAULT` to get the most up-to-date weights.\n",
      "  warnings.warn(msg)\n"
     ]
    }
   ],
   "source": [
    "#학습 루프\n",
    "import torch\n",
    "import torch.nn.functional as F\n",
    "from torch import optim\n",
    "from PIL import ImageFile\n",
    "from tqdm import tqdm\n",
    "from skimage import io, exposure, img_as_ubyte\n",
    "from skimage.color import rgb2gray\n",
    "\n",
    "ImageFile.LOAD_TRUNCATED_IMAGES = True\n",
    "\n",
    "device = torch.device(\"cuda\" if torch.cuda.is_available() else \"cpu\")\n",
    "model = AgeRegressor().to(device)\n",
    "optimizer = optim.Adam(model.parameters(), lr=1e-4)\n",
    "criterion = nn.MSELoss()"
   ]
  },
  {
   "cell_type": "markdown",
   "metadata": {},
   "source": [
    "##성능개선_(1)\n",
    "\n",
    "optimizer Adam with lr=0.001\n",
    "\n",
    "Epoch loop : 학습과 검증을 하나의 loop에 통합\n",
    "\n",
    "Early stopping : val_loss 기준 patient= 3 \n",
    "\n",
    "성능기록 및 시각화 = loss,MAE,RMSE"
   ]
  },
  {
   "cell_type": "code",
   "execution_count": null,
   "metadata": {},
   "outputs": [],
   "source": [
    "from sklearn.metrics import mean_absolute_error, mean_squared_error\n",
    "import torch\n",
    "import numpy as np\n",
    "from tqdm import tqdm\n",
    "import matplotlib.pyplot as plt\n",
    "\n",
    "# --- Optimizer 및 Scheduler 설정 ---\n",
    "optimizer = torch.optim.Adam(model.parameters(), lr=0.001)\n",
    "scheduler = torch.optim.lr_scheduler.ReduceLROnPlateau(optimizer, mode='min', factor=0.5, patience=2, verbose=True)\n",
    "\n",
    "# --- Early Stopping 설정 ---\n",
    "best_val_loss = float('inf')\n",
    "patience = 3\n",
    "counter = 0\n",
    "best_model_wts = None\n",
    "\n",
    "# --- 결과 저장 리스트 ---\n",
    "train_loss_history = []\n",
    "train_mae_history = []\n",
    "train_rmse_history = []\n",
    "\n",
    "val_loss_history = []\n",
    "val_mae_history = []\n",
    "val_rmse_history = []\n",
    "\n",
    "for epoch in range(30):\n",
    "    # ----- Train -----\n",
    "    model.train()\n",
    "    train_loss = 0\n",
    "    all_preds = []\n",
    "    all_labels = []\n",
    "\n",
    "    for images, ages in tqdm(train_loader, desc=f\"[Epoch {epoch+1}] Training\"):\n",
    "        images, ages = images.to(device), ages.to(device)\n",
    "\n",
    "        preds = model(images).squeeze()\n",
    "        loss = criterion(preds, ages.float())\n",
    "\n",
    "        optimizer.zero_grad()\n",
    "        loss.backward()\n",
    "        optimizer.step()\n",
    "\n",
    "        train_loss += loss.item() * images.size(0)\n",
    "        all_preds.extend(preds.detach().cpu().numpy())\n",
    "        all_labels.extend(ages.detach().cpu().numpy())\n",
    "\n",
    "    avg_loss = train_loss / len(train_loader.dataset)\n",
    "    mae = mean_absolute_error(all_labels, all_preds)\n",
    "    rmse = mean_squared_error(all_labels, all_preds, squared=False)\n",
    "\n",
    "    train_loss_history.append(avg_loss)\n",
    "    train_mae_history.append(mae)\n",
    "    train_rmse_history.append(rmse)\n",
    "\n",
    "    print(f\"[Epoch {epoch+1}] Train Loss: {avg_loss:.4f} | MAE: {mae:.4f} | RMSE: {rmse:.4f}\")\n",
    "\n",
    "    # ----- Validation -----\n",
    "    model.eval()\n",
    "    total_loss = 0.0\n",
    "    true_ages, pred_ages = [], []\n",
    "\n",
    "    with torch.no_grad():\n",
    "        for images, ages in tqdm(val_loader, desc=f\"[Epoch {epoch+1}] Validation\"):\n",
    "            images = images.to(device)\n",
    "            ages = ages.to(device)\n",
    "\n",
    "            preds = model(images).squeeze()\n",
    "            loss = criterion(preds, ages.float())\n",
    "\n",
    "            total_loss += loss.item() * images.size(0)\n",
    "            true_ages.extend(ages.detach().cpu().numpy())\n",
    "            pred_ages.extend(preds.detach().cpu().numpy())\n",
    "\n",
    "    val_avg_loss = total_loss / len(val_loader.dataset)\n",
    "    v_mae = mean_absolute_error(true_ages, pred_ages)\n",
    "    v_rmse = mean_squared_error(true_ages, pred_ages, squared=False)\n",
    "\n",
    "    val_loss_history.append(val_avg_loss)\n",
    "    val_mae_history.append(v_mae)\n",
    "    val_rmse_history.append(v_rmse)\n",
    "\n",
    "    print(f\"[Epoch {epoch+1}] Val Loss: {val_avg_loss:.4f} | MAE: {v_mae:.4f} | RMSE: {v_rmse:.4f}\")\n",
    "\n",
    "    # ----- Scheduler & Early Stopping -----\n",
    "    scheduler.step(val_avg_loss)\n",
    "\n",
    "    if val_avg_loss < best_val_loss:\n",
    "        best_val_loss = val_avg_loss\n",
    "        counter = 0\n",
    "        best_model_wts = model.state_dict()\n",
    "    else:\n",
    "        counter += 1\n",
    "        if counter >= patience:\n",
    "            print(f\"Early stopping triggered at epoch {epoch+1}. Best Val Loss: {best_val_loss:.4f}\")\n",
    "            break\n",
    "\n",
    "# --- 최고 성능 모델 복원 ---\n",
    "if best_model_wts is not None:\n",
    "    model.load_state_dict(best_model_wts)\n"
   ]
  },
  {
   "cell_type": "code",
   "execution_count": null,
   "metadata": {},
   "outputs": [],
   "source": [
    "epochs = range(1, len(train_loss_history) + 1)\n",
    "\n",
    "plt.figure(figsize=(18, 5))\n",
    "\n",
    "plt.subplot(1, 3, 1)\n",
    "plt.plot(epochs, train_loss_history, label='Train Loss')\n",
    "plt.plot(epochs, val_loss_history, label='Val Loss')\n",
    "plt.title('Loss')\n",
    "plt.xlabel('Epoch')\n",
    "plt.ylabel('Loss')\n",
    "plt.legend()\n",
    "plt.grid(True)\n",
    "\n",
    "plt.subplot(1, 3, 2)\n",
    "plt.plot(epochs, train_mae_history, label='Train MAE', color='green')\n",
    "plt.plot(epochs, val_mae_history, label='Val MAE', color='orange')\n",
    "plt.title('MAE')\n",
    "plt.xlabel('Epoch')\n",
    "plt.ylabel('MAE')\n",
    "plt.legend()\n",
    "plt.grid(True)\n",
    "\n",
    "plt.subplot(1, 3, 3)\n",
    "plt.plot(epochs, train_rmse_history, label='Train RMSE', color='red')\n",
    "plt.plot(epochs, val_rmse_history, label='Val RMSE', color='purple')\n",
    "plt.title('RMSE')\n",
    "plt.xlabel('Epoch')\n",
    "plt.ylabel('RMSE')\n",
    "plt.legend()\n",
    "plt.grid(True)\n",
    "\n",
    "plt.tight_layout()\n",
    "plt.show()"
   ]
  },
  {
   "cell_type": "code",
   "execution_count": 1,
   "metadata": {},
   "outputs": [
    {
     "ename": "NameError",
     "evalue": "name 'torch' is not defined",
     "output_type": "error",
     "traceback": [
      "\u001b[0;31m---------------------------------------------------------------------------\u001b[0m",
      "\u001b[0;31mNameError\u001b[0m                                 Traceback (most recent call last)",
      "\u001b[0;32m<ipython-input-1-f7de994f5fcd>\u001b[0m in \u001b[0;36m<cell line: 2>\u001b[0;34m()\u001b[0m\n\u001b[1;32m      1\u001b[0m \u001b[0;31m#모델 저장\u001b[0m\u001b[0;34m\u001b[0m\u001b[0;34m\u001b[0m\u001b[0;34m\u001b[0m\u001b[0m\n\u001b[0;32m----> 2\u001b[0;31m \u001b[0mtorch\u001b[0m\u001b[0;34m.\u001b[0m\u001b[0msave\u001b[0m\u001b[0;34m(\u001b[0m\u001b[0mbest_model_wts\u001b[0m\u001b[0;34m,\u001b[0m \u001b[0;34m'best_model.pth'\u001b[0m\u001b[0;34m)\u001b[0m\u001b[0;34m\u001b[0m\u001b[0;34m\u001b[0m\u001b[0m\n\u001b[0m",
      "\u001b[0;31mNameError\u001b[0m: name 'torch' is not defined"
     ]
    }
   ],
   "source": [
    "#모델 저장 \n",
    "torch.save(best_model_wts, 'best_model.pth')"
   ]
  }
 ],
 "metadata": {
  "colab": {
   "provenance": []
  },
  "kernelspec": {
   "display_name": "alpacosry",
   "language": "python",
   "name": "python3"
  },
  "language_info": {
   "codemirror_mode": {
    "name": "ipython",
    "version": 3
   },
   "file_extension": ".py",
   "mimetype": "text/x-python",
   "name": "python",
   "nbconvert_exporter": "python",
   "pygments_lexer": "ipython3",
   "version": "3.8.20"
  }
 },
 "nbformat": 4,
 "nbformat_minor": 0
}
