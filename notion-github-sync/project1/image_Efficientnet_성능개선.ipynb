{
 "cells": [
  {
   "cell_type": "markdown",
   "metadata": {},
   "source": [
    "Regression_ age + Face prediction "
   ]
  },
  {
   "cell_type": "code",
   "execution_count": 1,
   "metadata": {},
   "outputs": [],
   "source": [
    "import os\n",
    "import json\n",
    "import cv2\n",
    "import torch\n",
    "import numpy as np\n",
    "\n",
    "from PIL import Image\n",
    "from torch.utils.data import Dataset\n",
    "from matplotlib import pyplot as plt"
   ]
  },
  {
   "cell_type": "code",
   "execution_count": 2,
   "metadata": {},
   "outputs": [],
   "source": [
    "def collect_image_age_pairs(image_root_dir, json_root_dir):\n",
    "    pairs = []\n",
    "\n",
    "    # subject_id dir 반복\n",
    "    subject_ids = sorted([d for d in os.listdir(image_root_dir) if os.path.isdir(os.path.join(image_root_dir, d))])\n",
    "\n",
    "    print(f\"총 subject 수: {len(subject_ids)}\")\n",
    "\n",
    "    for subject_id in subject_ids:\n",
    "        subject_image_dir = os.path.join(image_root_dir, subject_id)\n",
    "        subject_json_dir = os.path.join(json_root_dir, subject_id)\n",
    "        if not os.path.exists(subject_json_dir):\n",
    "            print(f\"[경고] JSON 디렉토리 없음: {subject_json_dir}\")\n",
    "            continue\n",
    "        \n",
    "        #이미지 파일 중 Jpg만 추출 \n",
    "        jpg_files = [f for f in os.listdir(subject_image_dir) if f.endswith('.jpg')]\n",
    "\n",
    "        for jpg_file in jpg_files:\n",
    "            base_name = jpg_file.replace('.jpg', '')    \n",
    "            json_filename = f\"{base_name}_00.json\"\n",
    "            json_path = os.path.join(subject_json_dir, json_filename)\n",
    "            jpg_path = os.path.join(subject_image_dir, jpg_file)\n",
    "\n",
    "            if os.path.exists(json_path):\n",
    "                try:\n",
    "                    with open(json_path, 'r', encoding='utf-8') as f:\n",
    "                        data = json.load(f)\n",
    "                        age = data['info']['age'] #info[4]\n",
    "                        pairs.append((jpg_path, age))\n",
    "                        \n",
    "                except Exception as e:\n",
    "                    print(f\"[오류] JSON 파싱 실패: {json_path} - {e}\")\n",
    "            else:\n",
    "                print(f\"[경고] JSON 파일 없음: {json_path}\")\n",
    "\n",
    "    return pairs"
   ]
  },
  {
   "cell_type": "code",
   "execution_count": 3,
   "metadata": {},
   "outputs": [
    {
     "name": "stdout",
     "output_type": "stream",
     "text": [
      "총 subject 수: 858\n",
      "총 매칭 이미지 수: 6006\n",
      "샘플 10:\n",
      "('/home/alpaco/yskim/data/Training/origin/digitalCamera/0002/0002_01_L15.jpg', 50)\n",
      "('/home/alpaco/yskim/data/Training/origin/digitalCamera/0002/0002_01_Fb.jpg', 50)\n",
      "('/home/alpaco/yskim/data/Training/origin/digitalCamera/0002/0002_01_L30.jpg', 50)\n",
      "('/home/alpaco/yskim/data/Training/origin/digitalCamera/0002/0002_01_Ft.jpg', 50)\n",
      "('/home/alpaco/yskim/data/Training/origin/digitalCamera/0002/0002_01_F.jpg', 50)\n",
      "('/home/alpaco/yskim/data/Training/origin/digitalCamera/0002/0002_01_R15.jpg', 50)\n",
      "('/home/alpaco/yskim/data/Training/origin/digitalCamera/0002/0002_01_R30.jpg', 50)\n",
      "('/home/alpaco/yskim/data/Training/origin/digitalCamera/0003/0003_01_Fb.jpg', 24)\n",
      "('/home/alpaco/yskim/data/Training/origin/digitalCamera/0003/0003_01_F.jpg', 24)\n",
      "('/home/alpaco/yskim/data/Training/origin/digitalCamera/0003/0003_01_L15.jpg', 24)\n"
     ]
    }
   ],
   "source": [
    "# 루트 경로 설정  \n",
    "image_root = '/home/alpaco/yskim/data/Training/origin/digitalCamera'\n",
    "json_root = '/home/alpaco/yskim/data/Training/lable/digitalCamera'\n",
    "\n",
    "# 실행 \n",
    "image_age_pairs = collect_image_age_pairs(image_root, json_root)\n",
    "\n",
    "# 결과\n",
    "print(f\"총 매칭 이미지 수: {len(image_age_pairs)}\")\n",
    "print(\"샘플 10:\")\n",
    "for i in range(min(10, len(image_age_pairs))):\n",
    "    print(image_age_pairs[i])"
   ]
  },
  {
   "cell_type": "code",
   "execution_count": 4,
   "metadata": {},
   "outputs": [
    {
     "name": "stdout",
     "output_type": "stream",
     "text": [
      "                                          image_path  age\n",
      "0  /home/alpaco/yskim/data/Training/origin/digita...   50\n",
      "1  /home/alpaco/yskim/data/Training/origin/digita...   50\n",
      "2  /home/alpaco/yskim/data/Training/origin/digita...   50\n",
      "3  /home/alpaco/yskim/data/Training/origin/digita...   50\n",
      "4  /home/alpaco/yskim/data/Training/origin/digita...   50\n"
     ]
    }
   ],
   "source": [
    "import pandas as pd\n",
    "\n",
    "df = pd.DataFrame(image_age_pairs, columns=['image_path', 'age'])\n",
    "print(df.head())"
   ]
  },
  {
   "cell_type": "markdown",
   "metadata": {},
   "source": [
    "### EfficientNet 학습\n",
    "1. data준비\n",
    "2. custom dataset 클래스 정의\n",
    "3. 이미지 전처리(transforms)\n",
    "4. 모델 구성 (ResNet, EfficientNet)\n",
    "5. Regression Loss (MSELoss)\n",
    "6. 학습루프 작성(Train/val)\n",
    "7. 성능평가(MAE, RMSE)"
   ]
  },
  {
   "cell_type": "code",
   "execution_count": 5,
   "metadata": {},
   "outputs": [
    {
     "name": "stdout",
     "output_type": "stream",
     "text": [
      "Requirement already satisfied: torch in /home/alpaco/anaconda3/envs/alpacosry/lib/python3.8/site-packages (2.1.2+cpu)\n",
      "Requirement already satisfied: torchvision in /home/alpaco/anaconda3/envs/alpacosry/lib/python3.8/site-packages (0.16.2+cpu)\n",
      "Requirement already satisfied: pandas in /home/alpaco/anaconda3/envs/alpacosry/lib/python3.8/site-packages (2.0.3)\n",
      "Requirement already satisfied: scikit-learn in /home/alpaco/anaconda3/envs/alpacosry/lib/python3.8/site-packages (1.3.2)\n",
      "Requirement already satisfied: timm in /home/alpaco/anaconda3/envs/alpacosry/lib/python3.8/site-packages (1.0.16)\n",
      "Requirement already satisfied: filelock in /home/alpaco/anaconda3/envs/alpacosry/lib/python3.8/site-packages (from torch) (3.13.1)\n",
      "Requirement already satisfied: typing-extensions in /home/alpaco/anaconda3/envs/alpacosry/lib/python3.8/site-packages (from torch) (4.13.2)\n",
      "Requirement already satisfied: sympy in /home/alpaco/anaconda3/envs/alpacosry/lib/python3.8/site-packages (from torch) (1.13.3)\n",
      "Requirement already satisfied: networkx in /home/alpaco/anaconda3/envs/alpacosry/lib/python3.8/site-packages (from torch) (3.0)\n",
      "Requirement already satisfied: jinja2 in /home/alpaco/anaconda3/envs/alpacosry/lib/python3.8/site-packages (from torch) (3.1.4)\n",
      "Requirement already satisfied: fsspec in /home/alpaco/anaconda3/envs/alpacosry/lib/python3.8/site-packages (from torch) (2024.6.1)\n",
      "Requirement already satisfied: numpy in /home/alpaco/anaconda3/envs/alpacosry/lib/python3.8/site-packages (from torchvision) (1.24.1)\n",
      "Requirement already satisfied: requests in /home/alpaco/anaconda3/envs/alpacosry/lib/python3.8/site-packages (from torchvision) (2.32.4)\n",
      "Requirement already satisfied: pillow!=8.3.*,>=5.3.0 in /home/alpaco/anaconda3/envs/alpacosry/lib/python3.8/site-packages (from torchvision) (10.4.0)\n",
      "Requirement already satisfied: python-dateutil>=2.8.2 in /home/alpaco/anaconda3/envs/alpacosry/lib/python3.8/site-packages (from pandas) (2.8.2)\n",
      "Requirement already satisfied: pytz>=2020.1 in /home/alpaco/anaconda3/envs/alpacosry/lib/python3.8/site-packages (from pandas) (2025.2)\n",
      "Requirement already satisfied: tzdata>=2022.1 in /home/alpaco/anaconda3/envs/alpacosry/lib/python3.8/site-packages (from pandas) (2025.2)\n",
      "Requirement already satisfied: scipy>=1.5.0 in /home/alpaco/anaconda3/envs/alpacosry/lib/python3.8/site-packages (from scikit-learn) (1.10.1)\n",
      "Requirement already satisfied: joblib>=1.1.1 in /home/alpaco/anaconda3/envs/alpacosry/lib/python3.8/site-packages (from scikit-learn) (1.4.2)\n",
      "Requirement already satisfied: threadpoolctl>=2.0.0 in /home/alpaco/anaconda3/envs/alpacosry/lib/python3.8/site-packages (from scikit-learn) (3.5.0)\n",
      "Requirement already satisfied: pyyaml in /home/alpaco/anaconda3/envs/alpacosry/lib/python3.8/site-packages (from timm) (6.0.2)\n",
      "Requirement already satisfied: huggingface_hub in /home/alpaco/anaconda3/envs/alpacosry/lib/python3.8/site-packages (from timm) (0.33.2)\n",
      "Requirement already satisfied: safetensors in /home/alpaco/anaconda3/envs/alpacosry/lib/python3.8/site-packages (from timm) (0.5.3)\n",
      "Requirement already satisfied: six>=1.5 in /home/alpaco/anaconda3/envs/alpacosry/lib/python3.8/site-packages (from python-dateutil>=2.8.2->pandas) (1.16.0)\n",
      "Requirement already satisfied: packaging>=20.9 in /home/alpaco/anaconda3/envs/alpacosry/lib/python3.8/site-packages (from huggingface_hub->timm) (25.0)\n",
      "Requirement already satisfied: tqdm>=4.42.1 in /home/alpaco/anaconda3/envs/alpacosry/lib/python3.8/site-packages (from huggingface_hub->timm) (4.67.1)\n",
      "Requirement already satisfied: hf-xet<2.0.0,>=1.1.2 in /home/alpaco/anaconda3/envs/alpacosry/lib/python3.8/site-packages (from huggingface_hub->timm) (1.1.5)\n",
      "Requirement already satisfied: MarkupSafe>=2.0 in /home/alpaco/anaconda3/envs/alpacosry/lib/python3.8/site-packages (from jinja2->torch) (2.1.5)\n",
      "Requirement already satisfied: charset_normalizer<4,>=2 in /home/alpaco/anaconda3/envs/alpacosry/lib/python3.8/site-packages (from requests->torchvision) (3.4.2)\n",
      "Requirement already satisfied: idna<4,>=2.5 in /home/alpaco/anaconda3/envs/alpacosry/lib/python3.8/site-packages (from requests->torchvision) (3.10)\n",
      "Requirement already satisfied: urllib3<3,>=1.21.1 in /home/alpaco/anaconda3/envs/alpacosry/lib/python3.8/site-packages (from requests->torchvision) (2.2.3)\n",
      "Requirement already satisfied: certifi>=2017.4.17 in /home/alpaco/anaconda3/envs/alpacosry/lib/python3.8/site-packages (from requests->torchvision) (2025.6.15)\n",
      "Requirement already satisfied: mpmath<1.4,>=1.1.0 in /home/alpaco/anaconda3/envs/alpacosry/lib/python3.8/site-packages (from sympy->torch) (1.3.0)\n"
     ]
    }
   ],
   "source": [
    "!pip install torch torchvision pandas scikit-learn timm pandas"
   ]
  },
  {
   "cell_type": "code",
   "execution_count": 6,
   "metadata": {},
   "outputs": [],
   "source": [
    "# Dataset 정의 \n",
    "class AgeDataset(Dataset):\n",
    "    def __init__(self, dataframe, transform=None):\n",
    "        self.df = dataframe\n",
    "        self.transform = transform\n",
    "\n",
    "    def __len__(self):\n",
    "        return len(self.df)\n",
    "    \n",
    "    def __getitem__(self, idx):\n",
    "        img_path = self.df.iloc[idx]['image_path']\n",
    "        age = self.df.iloc[idx]['age']\n",
    "        image = Image.open(img_path).convert(\"RGB\")\n",
    "    \n",
    "        if self.transform:\n",
    "            image = self.transform(image)\n",
    "    \n",
    "        return image, torch.tensor(age, dtype=torch.float32)"
   ]
  },
  {
   "cell_type": "code",
   "execution_count": 7,
   "metadata": {},
   "outputs": [
    {
     "name": "stdout",
     "output_type": "stream",
     "text": [
      "Requirement already satisfied: scikit-image in /home/alpaco/anaconda3/envs/alpacosry/lib/python3.8/site-packages (0.21.0)\n",
      "Requirement already satisfied: numpy>=1.21.1 in /home/alpaco/anaconda3/envs/alpacosry/lib/python3.8/site-packages (from scikit-image) (1.24.1)\n",
      "Requirement already satisfied: scipy>=1.8 in /home/alpaco/anaconda3/envs/alpacosry/lib/python3.8/site-packages (from scikit-image) (1.10.1)\n",
      "Requirement already satisfied: networkx>=2.8 in /home/alpaco/anaconda3/envs/alpacosry/lib/python3.8/site-packages (from scikit-image) (3.0)\n",
      "Requirement already satisfied: pillow>=9.0.1 in /home/alpaco/anaconda3/envs/alpacosry/lib/python3.8/site-packages (from scikit-image) (10.4.0)\n",
      "Requirement already satisfied: imageio>=2.27 in /home/alpaco/anaconda3/envs/alpacosry/lib/python3.8/site-packages (from scikit-image) (2.35.1)\n",
      "Requirement already satisfied: tifffile>=2022.8.12 in /home/alpaco/anaconda3/envs/alpacosry/lib/python3.8/site-packages (from scikit-image) (2023.7.10)\n",
      "Requirement already satisfied: PyWavelets>=1.1.1 in /home/alpaco/anaconda3/envs/alpacosry/lib/python3.8/site-packages (from scikit-image) (1.4.1)\n",
      "Requirement already satisfied: packaging>=21 in /home/alpaco/anaconda3/envs/alpacosry/lib/python3.8/site-packages (from scikit-image) (25.0)\n",
      "Requirement already satisfied: lazy_loader>=0.2 in /home/alpaco/anaconda3/envs/alpacosry/lib/python3.8/site-packages (from scikit-image) (0.4)\n"
     ]
    }
   ],
   "source": [
    "!pip install scikit-image"
   ]
  },
  {
   "cell_type": "code",
   "execution_count": 8,
   "metadata": {},
   "outputs": [
    {
     "name": "stdout",
     "output_type": "stream",
     "text": [
      "Requirement already satisfied: gdown in /home/alpaco/anaconda3/envs/alpacosry/lib/python3.8/site-packages (4.6.3)\n",
      "Collecting gdown\n",
      "  Using cached gdown-5.2.0-py3-none-any.whl.metadata (5.8 kB)\n",
      "Requirement already satisfied: beautifulsoup4 in /home/alpaco/anaconda3/envs/alpacosry/lib/python3.8/site-packages (from gdown) (4.13.4)\n",
      "Requirement already satisfied: filelock in /home/alpaco/anaconda3/envs/alpacosry/lib/python3.8/site-packages (from gdown) (3.13.1)\n",
      "Requirement already satisfied: requests[socks] in /home/alpaco/anaconda3/envs/alpacosry/lib/python3.8/site-packages (from gdown) (2.32.4)\n",
      "Requirement already satisfied: tqdm in /home/alpaco/anaconda3/envs/alpacosry/lib/python3.8/site-packages (from gdown) (4.67.1)\n",
      "Requirement already satisfied: soupsieve>1.2 in /home/alpaco/anaconda3/envs/alpacosry/lib/python3.8/site-packages (from beautifulsoup4->gdown) (2.7)\n",
      "Requirement already satisfied: typing-extensions>=4.0.0 in /home/alpaco/anaconda3/envs/alpacosry/lib/python3.8/site-packages (from beautifulsoup4->gdown) (4.13.2)\n",
      "Requirement already satisfied: charset_normalizer<4,>=2 in /home/alpaco/anaconda3/envs/alpacosry/lib/python3.8/site-packages (from requests[socks]->gdown) (3.4.2)\n",
      "Requirement already satisfied: idna<4,>=2.5 in /home/alpaco/anaconda3/envs/alpacosry/lib/python3.8/site-packages (from requests[socks]->gdown) (3.10)\n",
      "Requirement already satisfied: urllib3<3,>=1.21.1 in /home/alpaco/anaconda3/envs/alpacosry/lib/python3.8/site-packages (from requests[socks]->gdown) (2.2.3)\n",
      "Requirement already satisfied: certifi>=2017.4.17 in /home/alpaco/anaconda3/envs/alpacosry/lib/python3.8/site-packages (from requests[socks]->gdown) (2025.6.15)\n",
      "Requirement already satisfied: PySocks!=1.5.7,>=1.5.6 in /home/alpaco/anaconda3/envs/alpacosry/lib/python3.8/site-packages (from requests[socks]->gdown) (1.7.1)\n",
      "Using cached gdown-5.2.0-py3-none-any.whl (18 kB)\n",
      "Installing collected packages: gdown\n",
      "  Attempting uninstall: gdown\n",
      "    Found existing installation: gdown 4.6.3\n",
      "    Uninstalling gdown-4.6.3:\n",
      "      Successfully uninstalled gdown-4.6.3\n",
      "Successfully installed gdown-5.2.0\n"
     ]
    }
   ],
   "source": [
    "!pip install --upgrade gdown"
   ]
  },
  {
   "cell_type": "code",
   "execution_count": 9,
   "metadata": {},
   "outputs": [
    {
     "name": "stdout",
     "output_type": "stream",
     "text": [
      "Collecting gdown==v4.6.3\n",
      "  Using cached gdown-4.6.3-py3-none-any.whl.metadata (4.4 kB)\n",
      "Requirement already satisfied: filelock in /home/alpaco/anaconda3/envs/alpacosry/lib/python3.8/site-packages (from gdown==v4.6.3) (3.13.1)\n",
      "Requirement already satisfied: requests[socks] in /home/alpaco/anaconda3/envs/alpacosry/lib/python3.8/site-packages (from gdown==v4.6.3) (2.32.4)\n",
      "Requirement already satisfied: six in /home/alpaco/anaconda3/envs/alpacosry/lib/python3.8/site-packages (from gdown==v4.6.3) (1.16.0)\n",
      "Requirement already satisfied: tqdm in /home/alpaco/anaconda3/envs/alpacosry/lib/python3.8/site-packages (from gdown==v4.6.3) (4.67.1)\n",
      "Requirement already satisfied: beautifulsoup4 in /home/alpaco/anaconda3/envs/alpacosry/lib/python3.8/site-packages (from gdown==v4.6.3) (4.13.4)\n",
      "Requirement already satisfied: soupsieve>1.2 in /home/alpaco/anaconda3/envs/alpacosry/lib/python3.8/site-packages (from beautifulsoup4->gdown==v4.6.3) (2.7)\n",
      "Requirement already satisfied: typing-extensions>=4.0.0 in /home/alpaco/anaconda3/envs/alpacosry/lib/python3.8/site-packages (from beautifulsoup4->gdown==v4.6.3) (4.13.2)\n",
      "Requirement already satisfied: charset_normalizer<4,>=2 in /home/alpaco/anaconda3/envs/alpacosry/lib/python3.8/site-packages (from requests[socks]->gdown==v4.6.3) (3.4.2)\n",
      "Requirement already satisfied: idna<4,>=2.5 in /home/alpaco/anaconda3/envs/alpacosry/lib/python3.8/site-packages (from requests[socks]->gdown==v4.6.3) (3.10)\n",
      "Requirement already satisfied: urllib3<3,>=1.21.1 in /home/alpaco/anaconda3/envs/alpacosry/lib/python3.8/site-packages (from requests[socks]->gdown==v4.6.3) (2.2.3)\n",
      "Requirement already satisfied: certifi>=2017.4.17 in /home/alpaco/anaconda3/envs/alpacosry/lib/python3.8/site-packages (from requests[socks]->gdown==v4.6.3) (2025.6.15)\n",
      "Requirement already satisfied: PySocks!=1.5.7,>=1.5.6 in /home/alpaco/anaconda3/envs/alpacosry/lib/python3.8/site-packages (from requests[socks]->gdown==v4.6.3) (1.7.1)\n",
      "Using cached gdown-4.6.3-py3-none-any.whl (14 kB)\n",
      "Installing collected packages: gdown\n",
      "  Attempting uninstall: gdown\n",
      "    Found existing installation: gdown 5.2.0\n",
      "    Uninstalling gdown-5.2.0:\n",
      "      Successfully uninstalled gdown-5.2.0\n",
      "Successfully installed gdown-4.6.3\n"
     ]
    }
   ],
   "source": [
    "!pip install gdown==v4.6.3"
   ]
  },
  {
   "cell_type": "code",
   "execution_count": 10,
   "metadata": {},
   "outputs": [],
   "source": [
    "%matplotlib inline"
   ]
  },
  {
   "cell_type": "code",
   "execution_count": 11,
   "metadata": {},
   "outputs": [],
   "source": [
    "import matplotlib.pyplot as plt\n",
    "from torch.utils.data import Dataset\n",
    "from PIL import Image\n",
    "import torch\n",
    "from torchvision import transforms\n",
    "from sklearn.metrics import mean_absolute_error, mean_squared_error"
   ]
  },
  {
   "cell_type": "code",
   "execution_count": 12,
   "metadata": {},
   "outputs": [],
   "source": [
    "# Horizontal Equalizing\n",
    "image_root = '/home/alpaco/yskim/data/Training/origin/digitalCamera'\n",
    "output_folder = '/home/alpaco/yskim/data/Training/CLAHE/digitalCamera'\n",
    "os.makedirs(output_folder, exist_ok=True)\n",
    "\n",
    "image_files = [f for f in os.listdir(image_root) if f.lower().endswith('.jpg')]\n",
    "\n",
    "for file in image_files:\n",
    "    image_path = os.path.join(image_root, file)\n",
    "    image = io.imread(image_path)\n",
    "\n",
    "    if image.ndim == 3:\n",
    "        image_gray = rgb2gray(image)\n",
    "    else:\n",
    "        image_gray = image\n",
    "\n",
    "    equalized = exposure.equalize_adapthist(image_gray, clip_limit=0.03)\n",
    "    output_path = os.path.join(output_folder, f'equalized_{file}')\n",
    "    io.imsave(output_path, img_as_ubyte(equalized))\n",
    "    print(f\"Saved: {output_path}\")"
   ]
  },
  {
   "cell_type": "code",
   "execution_count": 13,
   "metadata": {},
   "outputs": [],
   "source": [
    "# Custom Data\n",
    "\n",
    "class AgeRegressionDataset(Dataset):\n",
    "    def __init__(self, dataframe, transform=None):\n",
    "        self.df = dataframe\n",
    "        self.transform = transform\n",
    "    def __len__(self):\n",
    "        return len(self.df)\n",
    "    def __getitem__(self, idx):\n",
    "        img_path = self.df.iloc[idx]['image_path']\n",
    "        age = self.df.iloc[idx]['age']\n",
    "        image = Image.open(img_path).convert(\"RGB\")\n",
    "        if self.transform:\n",
    "            image = self.transform(image)\n",
    "        return image, torch.tensor(age, dtype=torch.float32)"
   ]
  },
  {
   "cell_type": "code",
   "execution_count": 14,
   "metadata": {},
   "outputs": [],
   "source": [
    "# transform 정의 \n",
    "\n",
    "transform = transforms.Compose([\n",
    "    transforms.Resize((224, 224)),\n",
    "    transforms.ToTensor(),\n",
    "    transforms.Normalize([0.5]*3, [0.5]*3)\n",
    "])\n",
    "# pip uninstall torch torchvision -y\n",
    "# pip install torch==2.1.2 torchvision==0.16.2 --index-url https://download.pytorch.org/whl/cpu"
   ]
  },
  {
   "cell_type": "code",
   "execution_count": 15,
   "metadata": {},
   "outputs": [],
   "source": [
    "#정상작동 확인\n",
    "from torchvision import transforms\n",
    "\n",
    "transform = transforms.Compose([\n",
    "    transforms.Resize((224, 224)),\n",
    "    transforms.ToTensor(),\n",
    "])"
   ]
  },
  {
   "cell_type": "code",
   "execution_count": 16,
   "metadata": {},
   "outputs": [],
   "source": [
    "# dataloader 구성\n",
    "from sklearn.model_selection import train_test_split\n",
    "from torch.utils.data import DataLoader\n",
    "\n",
    "df = pd.DataFrame(image_age_pairs, columns=['image_path', 'age'])\n",
    "\n",
    "train_df, val_df = train_test_split(df, test_size=0.2, random_state=42)\n",
    "\n",
    "train_dataset = AgeDataset(train_df, transform=transform)\n",
    "val_dataset = AgeDataset(val_df, transform=transform)\n",
    "\n",
    "train_loader = DataLoader(train_dataset, batch_size=32, shuffle=True)\n",
    "val_loader = DataLoader(val_dataset, batch_size=32, shuffle=False)"
   ]
  },
  {
   "cell_type": "code",
   "execution_count": 17,
   "metadata": {},
   "outputs": [
    {
     "name": "stderr",
     "output_type": "stream",
     "text": [
      "/home/alpaco/anaconda3/envs/alpacosry/lib/python3.8/site-packages/tqdm/auto.py:21: TqdmWarning: IProgress not found. Please update jupyter and ipywidgets. See https://ipywidgets.readthedocs.io/en/stable/user_install.html\n",
      "  from .autonotebook import tqdm as notebook_tqdm\n"
     ]
    }
   ],
   "source": [
    "#EfficientNet\n",
    "import torch.nn as nn\n",
    "import timm  \n",
    "\n",
    "class EfficientNetRegressor(nn.Module):\n",
    "    def __init__(self):\n",
    "        super(EfficientNetRegressor, self).__init__()\n",
    "        self.backbone = timm.create_model('efficientnet_b0', pretrained=True)\n",
    "        in_features = self.backbone.classifier.in_features\n",
    "        self.backbone.classifier = nn.Linear(in_features, 1)  # 회귀용 출력\n",
    "        \n",
    "    def forward(self, x):\n",
    "        return self.backbone(x).squeeze(1)"
   ]
  },
  {
   "cell_type": "code",
   "execution_count": 18,
   "metadata": {},
   "outputs": [],
   "source": [
    "# 학습루프 \n",
    "import torch\n",
    "from torch import optim\n",
    "import torch.nn.functional as F\n",
    "from tqdm import tqdm\n",
    "from PIL import ImageFile\n",
    "from skimage import io, exposure, img_as_ubyte\n",
    "from skimage.color import rgb2gray\n",
    "\n",
    "ImageFile.LOAD_TRUNCATED_IMAGES = True\n",
    "\n",
    "device = torch.device(\"cuda\" if torch.cuda.is_available() else \"cpu\")\n",
    "model = EfficientNetRegressor().to(device)\n",
    "optimizer = optim.Adam(model.parameters(), lr=0.001)\n",
    "criterion = nn.MSELoss()"
   ]
  },
  {
   "cell_type": "markdown",
   "metadata": {},
   "source": [
    "##성능개선_(1)\n",
    "\n",
    "optimizer Adam with lr=0.001\n",
    "Epoch loop : 학습과 검증을 하나의 loop에 통합\n",
    "Early stopping : val_loss 기준 patient= 3 \n",
    "성능기록 및 시각화 = loss,MAE,RMSE"
   ]
  },
  {
   "cell_type": "code",
   "execution_count": 20,
   "metadata": {},
   "outputs": [
    {
     "name": "stdout",
     "output_type": "stream",
     "text": [
      "Current LR: 0.001\n"
     ]
    },
    {
     "name": "stderr",
     "output_type": "stream",
     "text": [
      "[Epoch 1] Training: 100%|██████████| 151/151 [20:46<00:00,  8.26s/it]\n",
      "[Epoch 1] Validation: 100%|██████████| 38/38 [03:03<00:00,  4.83s/it]\n"
     ]
    },
    {
     "name": "stdout",
     "output_type": "stream",
     "text": [
      "[Epoch 1] Train Loss: 348.3347 | Val Loss: 66.5984 | MAE: 6.5434 | RMSE: 8.1608\n"
     ]
    },
    {
     "name": "stderr",
     "output_type": "stream",
     "text": [
      "[Epoch 2] Training: 100%|██████████| 151/151 [16:26<00:00,  6.53s/it]\n",
      "[Epoch 2] Validation: 100%|██████████| 38/38 [01:54<00:00,  3.02s/it]\n"
     ]
    },
    {
     "name": "stdout",
     "output_type": "stream",
     "text": [
      "[Epoch 2] Train Loss: 25.2611 | Val Loss: 18.5182 | MAE: 2.9899 | RMSE: 4.3033\n"
     ]
    },
    {
     "name": "stderr",
     "output_type": "stream",
     "text": [
      "[Epoch 3] Training: 100%|██████████| 151/151 [13:32<00:00,  5.38s/it]\n",
      "[Epoch 3] Validation: 100%|██████████| 38/38 [01:59<00:00,  3.14s/it]\n"
     ]
    },
    {
     "name": "stdout",
     "output_type": "stream",
     "text": [
      "[Epoch 3] Train Loss: 18.1226 | Val Loss: 16.6714 | MAE: 2.8127 | RMSE: 4.0831\n"
     ]
    },
    {
     "name": "stderr",
     "output_type": "stream",
     "text": [
      "[Epoch 4] Training: 100%|██████████| 151/151 [13:53<00:00,  5.52s/it]\n",
      "[Epoch 4] Validation: 100%|██████████| 38/38 [02:11<00:00,  3.47s/it]\n"
     ]
    },
    {
     "name": "stdout",
     "output_type": "stream",
     "text": [
      "[Epoch 4] Train Loss: 14.4687 | Val Loss: 14.8733 | MAE: 2.6153 | RMSE: 3.8566\n"
     ]
    },
    {
     "name": "stderr",
     "output_type": "stream",
     "text": [
      "[Epoch 5] Training: 100%|██████████| 151/151 [14:18<00:00,  5.68s/it]\n",
      "[Epoch 5] Validation: 100%|██████████| 38/38 [02:16<00:00,  3.59s/it]\n"
     ]
    },
    {
     "name": "stdout",
     "output_type": "stream",
     "text": [
      "[Epoch 5] Train Loss: 12.1345 | Val Loss: 27.3191 | MAE: 3.8892 | RMSE: 5.2268\n"
     ]
    },
    {
     "name": "stderr",
     "output_type": "stream",
     "text": [
      "[Epoch 6] Training: 100%|██████████| 151/151 [29:12<00:00, 11.60s/it]\n",
      "[Epoch 6] Validation: 100%|██████████| 38/38 [03:08<00:00,  4.97s/it]\n"
     ]
    },
    {
     "name": "stdout",
     "output_type": "stream",
     "text": [
      "[Epoch 6] Train Loss: 17.6871 | Val Loss: 53.0747 | MAE: 6.2466 | RMSE: 7.2852\n"
     ]
    },
    {
     "name": "stderr",
     "output_type": "stream",
     "text": [
      "[Epoch 7] Training: 100%|██████████| 151/151 [29:51<00:00, 11.86s/it]\n",
      "[Epoch 7] Validation: 100%|██████████| 38/38 [03:03<00:00,  4.83s/it]"
     ]
    },
    {
     "name": "stdout",
     "output_type": "stream",
     "text": [
      "[Epoch 7] Train Loss: 15.8206 | Val Loss: 19.6130 | MAE: 3.2258 | RMSE: 4.4287\n",
      "Early stopping at epoch 7. Best Val Loss: 14.8733\n"
     ]
    },
    {
     "name": "stderr",
     "output_type": "stream",
     "text": [
      "\n"
     ]
    }
   ],
   "source": [
    "#전체 통합(학습&검증)\n",
    "\n",
    "# optimizer & criterion\n",
    "# Optimizer 설정\n",
    "optimizer = torch.optim.Adam(model.parameters(), lr=0.001)\n",
    "\n",
    "# Scheduler 설정 (validation loss 기준)\n",
    "scheduler = torch.optim.lr_scheduler.ReduceLROnPlateau(\n",
    "    optimizer, mode='min', factor=0.5, patience=3, verbose=True\n",
    ")\n",
    "criterion = torch.nn.MSELoss() \n",
    "\n",
    "# early stopping 변수 설정\n",
    "best_val_loss = float('inf')\n",
    "patience = 3\n",
    "counter = 0\n",
    "best_model_wts = None\n",
    "\n",
    "# 기록용 리스트\n",
    "train_loss_history = []\n",
    "train_mae_history = []\n",
    "train_rmse_history = []\n",
    "\n",
    "val_loss_history = []\n",
    "val_mae_history = []\n",
    "val_rmse_history = []\n",
    "\n",
    "num_epochs = 30\n",
    "#학습률 확인 -------------------------------\n",
    "for param_group in optimizer.param_groups:\n",
    "    print(\"Current LR:\", param_group['lr'])\n",
    "#학습 및 검증 ------------------------------\n",
    "for epoch in range(num_epochs):\n",
    "    # ---------- TRAIN ----------\n",
    "    model.train()\n",
    "    running_loss = 0.0\n",
    "    all_preds = []\n",
    "    all_labels = []\n",
    "\n",
    "    for images, ages in tqdm(train_loader, desc=f\"[Epoch {epoch+1}] Training\"):\n",
    "        images, ages = images.to(device), ages.to(device)\n",
    "\n",
    "        preds = model(images).squeeze()\n",
    "        loss = criterion(preds, ages.float())\n",
    "\n",
    "        optimizer.zero_grad()\n",
    "        loss.backward()\n",
    "        optimizer.step()\n",
    "\n",
    "        running_loss += loss.item() * images.size(0)\n",
    "        all_preds.extend(preds.detach().cpu().numpy())\n",
    "        all_labels.extend(ages.detach().cpu().numpy())\n",
    "\n",
    "    epoch_loss = running_loss / len(train_loader.dataset)\n",
    "    epoch_mae = mean_absolute_error(all_labels, all_preds)\n",
    "    epoch_rmse = mean_squared_error(all_labels, all_preds, squared=False)\n",
    "\n",
    "    train_loss_history.append(epoch_loss)\n",
    "    train_mae_history.append(epoch_mae)\n",
    "    train_rmse_history.append(epoch_rmse)\n",
    "\n",
    "    # ---------- VALIDATION ----------\n",
    "    model.eval()\n",
    "    val_running_loss = 0.0\n",
    "    val_preds = []\n",
    "    val_labels = []\n",
    "\n",
    "    with torch.no_grad():\n",
    "        for images, ages in tqdm(val_loader, desc=f\"[Epoch {epoch+1}] Validation\"):\n",
    "            images, ages = images.to(device), ages.to(device)\n",
    "\n",
    "            preds = model(images).squeeze()\n",
    "            loss = criterion(preds, ages.float())\n",
    "\n",
    "            val_running_loss += loss.item() * images.size(0)\n",
    "            val_preds.extend(preds.cpu().numpy())\n",
    "            val_labels.extend(ages.cpu().numpy())\n",
    "\n",
    "    val_loss = val_running_loss / len(val_loader.dataset)\n",
    "    val_mae = mean_absolute_error(val_labels, val_preds)\n",
    "    val_rmse = mean_squared_error(val_labels, val_preds, squared=False)\n",
    "\n",
    "    val_loss_history.append(val_loss)\n",
    "    val_mae_history.append(val_mae)\n",
    "    val_rmse_history.append(val_rmse)\n",
    "\n",
    "    print(f\"[Epoch {epoch+1}] Train Loss: {epoch_loss:.4f} | Val Loss: {val_loss:.4f} | MAE: {val_mae:.4f} | RMSE: {val_rmse:.4f}\")\n",
    "\n",
    "    # ---------- EARLY STOPPING ----------\n",
    "    if val_loss < best_val_loss:\n",
    "        best_val_loss = val_loss\n",
    "        counter = 0\n",
    "        best_model_wts = model.state_dict()  # 가중치 저장\n",
    "    else:\n",
    "        counter += 1\n",
    "        if counter >= patience:\n",
    "            print(f\"Early stopping at epoch {epoch+1}. Best Val Loss: {best_val_loss:.4f}\")\n",
    "            break\n",
    "\n",
    "# 최고 모델 복원\n",
    "if best_model_wts is not None:\n",
    "    model.load_state_dict(best_model_wts)"
   ]
  },
  {
   "cell_type": "code",
   "execution_count": 24,
   "metadata": {},
   "outputs": [
    {
     "data": {
      "image/png": "[encoded data removed]",
      "text/plain": [
       "<Figure size 2000x500 with 3 Axes>"
      ]
     },
     "metadata": {},
     "output_type": "display_data"
    }
   ],
   "source": [
    "# 모델 시각화 \n",
    "epochs = range(1, len(train_loss_history) + 1)\n",
    "\n",
    "plt.figure(figsize=(20, 5))\n",
    "\n",
    "# 1. Loss\n",
    "plt.subplot(1, 3, 1)\n",
    "plt.plot(epochs, train_loss_history, marker='o', label='Train Loss')\n",
    "plt.plot(epochs, val_loss_history, marker='x', label='Val Loss')\n",
    "plt.title('Loss')\n",
    "plt.xlabel('Epoch')\n",
    "plt.ylabel('Loss')\n",
    "plt.legend()\n",
    "plt.grid(True)\n",
    "\n",
    "# 2. MAE\n",
    "plt.subplot(1, 3, 2)\n",
    "plt.plot(epochs, train_mae_history, marker='o', label='Train MAE', color='green')\n",
    "plt.plot(epochs, val_mae_history, marker='x', label='Val MAE', color='orange')\n",
    "plt.title('MAE')\n",
    "plt.xlabel('Epoch')\n",
    "plt.ylabel('MAE')\n",
    "plt.legend()\n",
    "plt.grid(True)\n",
    "\n",
    "# 3. RMSE\n",
    "plt.subplot(1, 3, 3)\n",
    "plt.plot(epochs, train_rmse_history, marker='o', label='Train RMSE', color='red')\n",
    "plt.plot(epochs, val_rmse_history, marker='x', label='Val RMSE', color='purple')\n",
    "plt.title('RMSE')\n",
    "plt.xlabel('Epoch')\n",
    "plt.ylabel('RMSE')\n",
    "plt.legend()\n",
    "plt.grid(True)\n",
    "\n",
    "plt.tight_layout()\n",
    "plt.show()"
   ]
  },
  {
   "cell_type": "code",
   "execution_count": 22,
   "metadata": {},
   "outputs": [],
   "source": [
    "#모델 저장 \n",
    "torch.save(best_model_wts, 'best_model.pth')"
   ]
  },
  {
   "cell_type": "markdown",
   "metadata": {},
   "source": [
    "##성능개선_(2)\n",
    "\n",
    "optimizer Adam with lr=0.001\n",
    "\n",
    "Early stopping : val_loss 기준 patient= 5 \n",
    "성능기록 및 시각화 = loss,MAE,RMSE"
   ]
  },
  {
   "cell_type": "code",
   "execution_count": null,
   "metadata": {},
   "outputs": [],
   "source": [
    "#전체 통합(학습&검증)_2\n",
    "\n",
    "optimizer = torch.optim.Adam(model.parameters(), lr=0.001)\n",
    "\n",
    "# Scheduler 설정 (validation loss 기준)\n",
    "scheduler = torch.optim.lr_scheduler.ReduceLROnPlateau(\n",
    "    optimizer, mode='min', factor=0.5, patience=25, verbose=True\n",
    ")\n",
    "criterion = torch.nn.MSELoss() \n",
    "\n",
    "# early stopping 변수 설정\n",
    "best_val_loss = float('inf')\n",
    "patience = 5\n",
    "counter = 0\n",
    "best_model_wts = None\n",
    "\n",
    "# 기록용 리스트\n",
    "train_loss_history = []\n",
    "train_mae_history = []\n",
    "train_rmse_history = []\n",
    "\n",
    "val_loss_history = []\n",
    "val_mae_history = []\n",
    "val_rmse_history = []\n",
    "\n",
    "num_epochs = 30\n",
    "#학습률 확인 -------------------------------\n",
    "for param_group in optimizer.param_groups:\n",
    "    print(\"Current LR:\", param_group['lr'])\n",
    "#학습 및 검증 ------------------------------\n",
    "for epoch in range(num_epochs):\n",
    "    # ---------- TRAIN ----------\n",
    "    model.train()\n",
    "    running_loss = 0.0\n",
    "    all_preds = []\n",
    "    all_labels = []\n",
    "\n",
    "    for images, ages in tqdm(train_loader, desc=f\"[Epoch {epoch+1}] Training\"):\n",
    "        images, ages = images.to(device), ages.to(device)\n",
    "\n",
    "        preds = model(images).squeeze()\n",
    "        loss = criterion(preds, ages.float())\n",
    "\n",
    "        optimizer.zero_grad()\n",
    "        loss.backward()\n",
    "        optimizer.step()\n",
    "\n",
    "        running_loss += loss.item() * images.size(0)\n",
    "        all_preds.extend(preds.detach().cpu().numpy())\n",
    "        all_labels.extend(ages.detach().cpu().numpy())\n",
    "\n",
    "    epoch_loss = running_loss / len(train_loader.dataset)\n",
    "    epoch_mae = mean_absolute_error(all_labels, all_preds)\n",
    "    epoch_rmse = mean_squared_error(all_labels, all_preds, squared=False)\n",
    "\n",
    "    train_loss_history.append(epoch_loss)\n",
    "    train_mae_history.append(epoch_mae)\n",
    "    train_rmse_history.append(epoch_rmse)\n",
    "\n",
    "    # ---------- VALIDATION ----------\n",
    "    model.eval()\n",
    "    val_running_loss = 0.0\n",
    "    val_preds = []\n",
    "    val_labels = []\n",
    "\n",
    "    with torch.no_grad():\n",
    "        for images, ages in tqdm(val_loader, desc=f\"[Epoch {epoch+1}] Validation\"):\n",
    "            images, ages = images.to(device), ages.to(device)\n",
    "\n",
    "            preds = model(images).squeeze()\n",
    "            loss = criterion(preds, ages.float())\n",
    "\n",
    "            val_running_loss += loss.item() * images.size(0)\n",
    "            val_preds.extend(preds.cpu().numpy())\n",
    "            val_labels.extend(ages.cpu().numpy())\n",
    "\n",
    "    val_loss = val_running_loss / len(val_loader.dataset)\n",
    "    val_mae = mean_absolute_error(val_labels, val_preds)\n",
    "    val_rmse = mean_squared_error(val_labels, val_preds, squared=False)\n",
    "\n",
    "    val_loss_history.append(val_loss)\n",
    "    val_mae_history.append(val_mae)\n",
    "    val_rmse_history.append(val_rmse)\n",
    "\n",
    "    print(f\"[Epoch {epoch+1}] Train Loss: {epoch_loss:.4f} | Val Loss: {val_loss:.4f} | MAE: {val_mae:.4f} | RMSE: {val_rmse:.4f}\")\n",
    "\n",
    "    # ---------- EARLY STOPPING ----------\n",
    "    if val_loss < best_val_loss:\n",
    "        best_val_loss = val_loss\n",
    "        counter = 0\n",
    "        best_model_wts = model.state_dict()  # 가중치 저장\n",
    "    else:\n",
    "        counter += 1\n",
    "        if counter >= patience:\n",
    "            print(f\"Early stopping at epoch {epoch+1}. Best Val Loss: {best_val_loss:.4f}\")\n",
    "            break\n",
    "\n",
    "# 최고 모델 복원\n",
    "if best_model_wts is not None:\n",
    "    model.load_state_dict(best_model_wts)"
   ]
  },
  {
   "cell_type": "code",
   "execution_count": null,
   "metadata": {},
   "outputs": [],
   "source": [
    "# 모델 시각화_2\n",
    "epochs = range(1, len(train_loss_history) + 1)\n",
    "\n",
    "plt.figure(figsize=(18, 5))\n",
    "\n",
    "# 1. Loss\n",
    "plt.subplot(1, 3, 1)\n",
    "plt.plot(epochs, train_loss_history, marker='o', label='Train Loss 2')\n",
    "plt.plot(epochs, val_loss_history, marker='x', label='Val Loss 2')\n",
    "plt.title('Loss')\n",
    "plt.xlabel('Epoch')\n",
    "plt.ylabel('Loss')\n",
    "plt.legend()\n",
    "plt.grid(True)\n",
    "\n",
    "# 2. MAE\n",
    "plt.subplot(1, 3, 2)\n",
    "plt.plot(epochs, train_mae_history, marker='o', label='Train MAE 2', color='green')\n",
    "plt.plot(epochs, val_mae_history, marker='x', label='Val MAE 2', color='orange')\n",
    "plt.title('MAE')\n",
    "plt.xlabel('Epoch')\n",
    "plt.ylabel('MAE')\n",
    "plt.legend()\n",
    "plt.grid(True)\n",
    "\n",
    "# 3. RMSE\n",
    "plt.subplot(1, 3, 3)\n",
    "plt.plot(epochs, train_rmse_history, marker='o', label='Train RMSE 2', color='red')\n",
    "plt.plot(epochs, val_rmse_history, marker='x', label='Val RMSE 2', color='purple')\n",
    "plt.title('RMSE')\n",
    "plt.xlabel('Epoch')\n",
    "plt.ylabel('RMSE')\n",
    "plt.legend()\n",
    "plt.grid(True)\n",
    "\n",
    "plt.tight_layout()\n",
    "plt.show()"
   ]
  },
  {
   "cell_type": "code",
   "execution_count": null,
   "metadata": {},
   "outputs": [],
   "source": [
    "#모델 저장_2\n",
    "torch.save(best_model_wts2, 'best_model.pth2')"
   ]
  }
 ],
 "metadata": {
  "colab": {
   "provenance": []
  },
  "kernelspec": {
   "display_name": "alpacosry",
   "language": "python",
   "name": "python3"
  },
  "language_info": {
   "codemirror_mode": {
    "name": "ipython",
    "version": 3
   },
   "file_extension": ".py",
   "mimetype": "text/x-python",
   "name": "python",
   "nbconvert_exporter": "python",
   "pygments_lexer": "ipython3",
   "version": "3.8.20"
  }
 },
 "nbformat": 4,
 "nbformat_minor": 0
}
