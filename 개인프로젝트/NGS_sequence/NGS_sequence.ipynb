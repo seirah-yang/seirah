{
 "cells": [
  {
   "cell_type": "markdown",
   "id": "376c2a52",
   "metadata": {},
   "source": [
    "TCGA Meta AML 유전체 + 임상 변수 + 예후(outcome) 정보"
   ]
  },
  {
   "cell_type": "code",
   "execution_count": null,
   "id": "6713feb6",
   "metadata": {},
   "outputs": [],
   "source": [
    "import os\n",
    "import pandas\n",
    "import pandas as pd\n",
    "import numpy as np\n",
    "\n",
    "from Bio.SeqUtils import gc_fraction #pip install biopython\n",
    "from Bio.Seq import Seq\n",
    "\n",
    "from lifelines import CoxPHFitter #!pip install lifelines\n",
    "from lifelines.utils import concordance_index\n",
    "from lifelines import KaplanMeierFitter\n",
    "\n",
    "from langchain_openai import ChatOpenAI #!pip install langchain langchain-openai\n",
    "from langchain_core.output_parsers import StrOutputParser\n",
    "from langchain_core.prompts import ChatPromptTemplate\n",
    "\n",
    "import matplotlib.pyplot as plt #pip install matplotlib\n",
    "import seaborn as sns #pip install seaborn"
   ]
  },
  {
   "cell_type": "code",
   "execution_count": 2,
   "id": "c4943083",
   "metadata": {},
   "outputs": [],
   "source": [
    "import torch #pip install torch lighting\n",
    "import torch.nn as nn\n",
    "import torch.optim as optim\n",
    "from torchvision import datasets, transforms\n",
    "import pytorch_lightning as pl\n",
    "from pytorch_lightning import Trainer\n",
    "from torchvision.datasets import MNIST\n",
    "from torch.utils.data import DataLoader, random_split\n",
    "from torch.nn import functional as F"
   ]
  },
  {
   "cell_type": "markdown",
   "id": "abe25a3e",
   "metadata": {},
   "source": [
    "DNA 시퀀스 생성\n",
    "    my_seq = Seq(\"AGTACACTGGT\")\n",
    "\n",
    "GC 함량 계산\n",
    "    gc_content = GC(my_seq)\n",
    "\n",
    "print(f\"GC Content: {gc_content}%\")"
   ]
  },
  {
   "cell_type": "markdown",
   "id": "fd54ea39",
   "metadata": {},
   "source": [
    "## 생존 예측 모델\n",
    "- UMLS: 의학적 개념을 고유하게 식별하기 위한 코드\n",
    "- CUI는 그 안에서 다양한 용어나 표현이 동일한 의미를 가진 의학적 개념을 나타내는 경우 그들을 하나의 고유 식별자로 연결하는 역할을 함 \n",
    "- Metathesaurus 의학용어의 집합으로 의학적용어, 이름, 코드, 개념, 기호를 포함\n",
    "- 관계구조 : 개념간의 관계와 계층 구조를 포함하여 복잡한 의학지식을 표현함\n",
    "- 예) 한 질병이 다른 질병의 하위 분류인지, 두 약물이 유사한 효과를 가지는 지 등의 관계를 알 수 있음 \n",
    "- 여러 언어의 의학용어를 포함하므로 다양한 언어로 된 의학문서나 데이터를 다룰 때 유용함 "
   ]
  },
  {
   "cell_type": "code",
   "execution_count": null,
   "id": "a0c0cf79",
   "metadata": {},
   "outputs": [],
   "source": [
    "# Survival\n",
    "HuggingFace\n",
    "Bio_ClinicalBERT"
   ]
  },
  {
   "cell_type": "code",
   "execution_count": null,
   "id": "641970f2",
   "metadata": {},
   "outputs": [],
   "source": [
    "#시각화\n",
    "\n",
    "kmf = KaplanMeierFitter()\n",
    "Kmf.fit(data['time'], event_observed=data['event'])\n",
    "kmf.plot_survival_function()\n",
    "plt.title('kaplan_meier: 전체 생존곡선')"
   ]
  }
 ],
 "metadata": {
  "kernelspec": {
   "display_name": "alpacosry",
   "language": "python",
   "name": "python3"
  },
  "language_info": {
   "codemirror_mode": {
    "name": "ipython",
    "version": 3
   },
   "file_extension": ".py",
   "mimetype": "text/x-python",
   "name": "python",
   "nbconvert_exporter": "python",
   "pygments_lexer": "ipython3",
   "version": "3.8.20"
  }
 },
 "nbformat": 4,
 "nbformat_minor": 5
}
